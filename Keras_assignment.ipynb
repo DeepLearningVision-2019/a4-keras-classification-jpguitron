{
 "cells": [
  {
   "cell_type": "markdown",
   "metadata": {},
   "source": [
    "# Classify different data sets"
   ]
  },
  {
   "cell_type": "markdown",
   "metadata": {},
   "source": [
    "### Basic includes"
   ]
  },
  {
   "cell_type": "code",
   "execution_count": 1,
   "metadata": {},
   "outputs": [
    {
     "name": "stderr",
     "output_type": "stream",
     "text": [
      "Using TensorFlow backend.\n"
     ]
    }
   ],
   "source": [
    "# Using pandas to load the csv file\n",
    "import pandas as pd\n",
    "\n",
    "import numpy as np\n",
    "import matplotlib.pyplot as plt\n",
    "\n",
    "from keras import models \n",
    "from keras import layers \n",
    "from keras import callbacks\n",
    "from keras.utils import to_categorical\n",
    "from keras import optimizers\n",
    "from keras import regularizers\n",
    "\n",
    "# reuters and fashin mnist data set from keras\n",
    "from keras.datasets import reuters\n",
    "from keras.datasets import fashion_mnist\n",
    "\n",
    "# needed to preprocess text\n",
    "from keras.preprocessing.text import Tokenizer"
   ]
  },
  {
   "cell_type": "markdown",
   "metadata": {},
   "source": [
    "### Classify the Fashion Mnist\n",
    "\n",
    "---"
   ]
  },
  {
   "cell_type": "code",
   "execution_count": 48,
   "metadata": {},
   "outputs": [
    {
     "name": "stdout",
     "output_type": "stream",
     "text": [
      "(60000, 28, 28)\n"
     ]
    },
    {
     "data": {
      "text/plain": [
       "<matplotlib.image.AxesImage at 0x7f8af6674978>"
      ]
     },
     "execution_count": 48,
     "metadata": {},
     "output_type": "execute_result"
    },
    {
     "data": {
      "image/png": "[encoded data removed]",
      "text/plain": [
       "<Figure size 432x288 with 1 Axes>"
      ]
     },
     "metadata": {
      "needs_background": "light"
     },
     "output_type": "display_data"
    }
   ],
   "source": [
    "(fashion_train_data, fashion_train_labels), (fashion_test_data, fashion_test_labels) = fashion_mnist.load_data()\n",
    "\n",
    "print(fashion_train_data.shape)\n",
    "\n",
    "test_index = 10\n",
    "\n",
    "plt.title(\"Label: \" + str(fashion_train_labels[test_index]))\n",
    "plt.imshow(fashion_train_data[test_index], cmap=\"gray\")"
   ]
  },
  {
   "cell_type": "markdown",
   "metadata": {},
   "source": [
    "#### TO DO: Preprocess the data\n",
    "\n",
    "1. Normalize the input data set\n",
    "2. Perform one hot encoding\n",
    "3. Create a train, test, and validation set"
   ]
  },
  {
   "cell_type": "code",
   "execution_count": 49,
   "metadata": {},
   "outputs": [
    {
     "name": "stdout",
     "output_type": "stream",
     "text": [
      "(60000, 784)\n",
      "(60000, 10)\n",
      "(55000, 784)\n"
     ]
    }
   ],
   "source": [
    "\n",
    "# flatten arrays\n",
    "fashion_train_data = fashion_train_data.reshape((60000, 28 * 28))\n",
    "fashion_train_data = fashion_train_data.astype('float32') / 255 \n",
    "\n",
    "print(fashion_train_data.shape)\n",
    "\n",
    "# same starndadization for the test images\n",
    "fashion_test_data = fashion_test_data.reshape((10000, 28 * 28)) \n",
    "fashion_test_data = fashion_test_data.astype('float32') / 255\n",
    "\n",
    "# one hot encoding\n",
    "fashion_train_labels = to_categorical(fashion_train_labels) \n",
    "fashion_test_labels = to_categorical(fashion_test_labels)\n",
    "\n",
    "print(fashion_train_labels.shape)\n",
    "\n",
    "#validation set\n",
    "validation_data = fashion_train_data[:5000] #toma los primeros 5000 para validation\n",
    "validation_labels = fashion_train_labels[:5000]\n",
    "\n",
    "#toma a partir del 5000 para los training\n",
    "x_data = fashion_train_data[5000:]\n",
    "y_data = fashion_train_labels[5000:]\n",
    "\n",
    "print(x_data.shape)"
   ]
  },
  {
   "cell_type": "markdown",
   "metadata": {},
   "source": [
    "#### TO DO: Define and train a network, then plot the accuracy of the training, validation, and testing\n",
    "\n",
    "1. Use a validation set\n",
    "2. Propose and train a network\n",
    "3. Print the history of the training\n",
    "4. Evaluate with a test set"
   ]
  },
  {
   "cell_type": "code",
   "execution_count": 62,
   "metadata": {},
   "outputs": [
    {
     "name": "stdout",
     "output_type": "stream",
     "text": [
      "_________________________________________________________________\n",
      "Layer (type)                 Output Shape              Param #   \n",
      "=================================================================\n",
      "dense_24 (Dense)             (None, 256)               200960    \n",
      "_________________________________________________________________\n",
      "dropout_15 (Dropout)         (None, 256)               0         \n",
      "_________________________________________________________________\n",
      "dense_25 (Dense)             (None, 64)                16448     \n",
      "_________________________________________________________________\n",
      "dropout_16 (Dropout)         (None, 64)                0         \n",
      "_________________________________________________________________\n",
      "dense_26 (Dense)             (None, 10)                650       \n",
      "=================================================================\n",
      "Total params: 218,058\n",
      "Trainable params: 218,058\n",
      "Non-trainable params: 0\n",
      "_________________________________________________________________\n"
     ]
    }
   ],
   "source": [
    "network = models.Sequential()\n",
    "\n",
    "network.add(layers.Dense(256, activation='relu', input_shape=(28 * 28,))) #se puede cambiar la función de activación\n",
    "network.add(layers.Dropout(0.3))\n",
    "network.add(layers.Dense(64, activation='relu'))\n",
    "network.add(layers.Dropout(0.2))\n",
    "network.add(layers.Dense(10, activation='softmax'))\n",
    "\n",
    "network.summary()\n",
    "\n",
    "early_stop = callbacks.EarlyStopping(monitor=\"val_loss\", patience = 3)\n",
    "network.compile(optimizer='adam', loss='categorical_crossentropy', metrics=['accuracy'])\n",
    "\n"
   ]
  },
  {
   "cell_type": "code",
   "execution_count": 63,
   "metadata": {},
   "outputs": [
    {
     "name": "stdout",
     "output_type": "stream",
     "text": [
      "Train on 55000 samples, validate on 5000 samples\n",
      "Epoch 1/50\n",
      " - 3s - loss: 0.7123 - acc: 0.7521 - val_loss: 0.4284 - val_acc: 0.8526\n",
      "Epoch 2/50\n",
      " - 3s - loss: 0.4631 - acc: 0.8371 - val_loss: 0.3697 - val_acc: 0.8706\n",
      "Epoch 3/50\n",
      " - 2s - loss: 0.4134 - acc: 0.8528 - val_loss: 0.3610 - val_acc: 0.8678\n",
      "Epoch 4/50\n",
      " - 3s - loss: 0.3812 - acc: 0.8627 - val_loss: 0.3348 - val_acc: 0.8768\n",
      "Epoch 5/50\n",
      " - 3s - loss: 0.3649 - acc: 0.8684 - val_loss: 0.3250 - val_acc: 0.8854\n",
      "Epoch 6/50\n",
      " - 2s - loss: 0.3483 - acc: 0.8739 - val_loss: 0.3190 - val_acc: 0.8874\n",
      "Epoch 7/50\n",
      " - 2s - loss: 0.3384 - acc: 0.8756 - val_loss: 0.3197 - val_acc: 0.8850\n",
      "Epoch 8/50\n",
      " - 2s - loss: 0.3254 - acc: 0.8822 - val_loss: 0.3079 - val_acc: 0.8900\n",
      "Epoch 9/50\n",
      " - 4s - loss: 0.3202 - acc: 0.8815 - val_loss: 0.3166 - val_acc: 0.8844\n",
      "Epoch 10/50\n",
      " - 3s - loss: 0.3118 - acc: 0.8853 - val_loss: 0.3005 - val_acc: 0.8908\n",
      "Epoch 11/50\n",
      " - 2s - loss: 0.3046 - acc: 0.8878 - val_loss: 0.3174 - val_acc: 0.8836\n",
      "Epoch 12/50\n",
      " - 2s - loss: 0.2955 - acc: 0.8901 - val_loss: 0.2927 - val_acc: 0.8920\n",
      "Epoch 13/50\n",
      " - 2s - loss: 0.2901 - acc: 0.8939 - val_loss: 0.2941 - val_acc: 0.8946\n",
      "Epoch 14/50\n",
      " - 2s - loss: 0.2839 - acc: 0.8951 - val_loss: 0.2933 - val_acc: 0.8948\n",
      "Epoch 15/50\n",
      " - 2s - loss: 0.2790 - acc: 0.8963 - val_loss: 0.2954 - val_acc: 0.8950\n"
     ]
    }
   ],
   "source": [
    "history = network.fit(x_data, y_data, batch_size =256, epochs = 50,validation_data = (validation_data, validation_labels),callbacks=[early_stop], verbose=2,shuffle=True)"
   ]
  },
  {
   "cell_type": "markdown",
   "metadata": {},
   "source": [
    "#### Evaluate the model, and plot the validation and accuracy\n"
   ]
  },
  {
   "cell_type": "code",
   "execution_count": 64,
   "metadata": {},
   "outputs": [
    {
     "name": "stdout",
     "output_type": "stream",
     "text": [
      "10000/10000 [==============================] - 1s 52us/step\n",
      "[0.32781646867990494, 0.8858]\n"
     ]
    }
   ],
   "source": [
    "#evaluate the test data\n",
    "results = network.evaluate(fashion_test_data, fashion_test_labels)\n",
    "print(results)"
   ]
  },
  {
   "cell_type": "code",
   "execution_count": 65,
   "metadata": {},
   "outputs": [],
   "source": [
    "history_dict = history.history\n",
    "acc = history_dict['acc']\n",
    "val_acc = history_dict['val_acc']\n",
    "loss = history_dict['loss']\n",
    "val_loss = history_dict['val_loss']\n",
    "epochs = range(1, len(acc) + 1)"
   ]
  },
  {
   "cell_type": "code",
   "execution_count": 66,
   "metadata": {},
   "outputs": [
    {
     "data": {
      "image/png": "[encoded data removed]",
      "text/plain": [
       "<Figure size 432x288 with 1 Axes>"
      ]
     },
     "metadata": {
      "needs_background": "light"
     },
     "output_type": "display_data"
    }
   ],
   "source": [
    "# Plot of the validation and training loss\n",
    "\n",
    "plt.plot(epochs, loss, 'r', label='Training loss')#red line\n",
    "plt.plot(epochs, val_loss, 'b', label='Validation loss')#blue line\n",
    "plt.title('Training and validation loss')\n",
    "plt.xlabel('Epochs')\n",
    "plt.ylabel('Loss')\n",
    "plt.legend()\n",
    "\n",
    "plt.show()"
   ]
  },
  {
   "cell_type": "code",
   "execution_count": 67,
   "metadata": {},
   "outputs": [
    {
     "data": {
      "image/png": "[encoded data removed]",
      "text/plain": [
       "<Figure size 432x288 with 1 Axes>"
      ]
     },
     "metadata": {
      "needs_background": "light"
     },
     "output_type": "display_data"
    }
   ],
   "source": [
    "# Plot of the validation and train accuracy\n",
    "\n",
    "plt.clf()   # clear figure\n",
    "\n",
    "plt.plot(epochs, acc, 'r', label='Training acc')#red line\n",
    "plt.plot(epochs, val_acc, 'b', label='Validation acc')#blue line\n",
    "plt.title('Training and validation accuracy')\n",
    "plt.xlabel('Epochs')\n",
    "plt.ylabel('Accuracy')\n",
    "plt.legend()\n",
    "\n",
    "plt.show()"
   ]
  },
  {
   "cell_type": "markdown",
   "metadata": {},
   "source": [
    "#### Followed model\n",
    "For this network, I tried first to do as much overfitting as possible to later add a dropout so that it could improve the predictions it has."
   ]
  },
  {
   "cell_type": "markdown",
   "metadata": {},
   "source": [
    "## Classifying newswires\n",
    "\n",
    "---\n",
    "\n",
    "Build a network to classify Reuters newswires into 46 different mutually-exclusive topics."
   ]
  },
  {
   "cell_type": "markdown",
   "metadata": {},
   "source": [
    "### Load and review the data"
   ]
  },
  {
   "cell_type": "code",
   "execution_count": 70,
   "metadata": {},
   "outputs": [
    {
     "name": "stdout",
     "output_type": "stream",
     "text": [
      "(8982,)\n",
      "(8982,)\n",
      "[1, 27595, 28842, 8, 43, 10, 447, 5, 25, 207, 270, 5, 3095, 111, 16, 369, 186, 90, 67, 7, 89, 5, 19, 102, 6, 19, 124, 15, 90, 67, 84, 22, 482, 26, 7, 48, 4, 49, 8, 864, 39, 209, 154, 6, 151, 6, 83, 11, 15, 22, 155, 11, 15, 7, 48, 9, 4579, 1005, 504, 6, 258, 6, 272, 11, 15, 22, 134, 44, 11, 15, 16, 8, 197, 1245, 90, 67, 52, 29, 209, 30, 32, 132, 6, 109, 15, 17, 12]\n",
      "3\n",
      "{0, 1, 2, 3, 4, 5, 6, 7, 8, 9, 10, 11, 12, 13, 14, 15, 16, 17, 18, 19, 20, 21, 22, 23, 24, 25, 26, 27, 28, 29, 30, 31, 32, 33, 34, 35, 36, 37, 38, 39, 40, 41, 42, 43, 44, 45}\n"
     ]
    }
   ],
   "source": [
    "(reuters_train_data, reuters_train_labels),(reuters_test_data, reuters_test_labels) = reuters.load_data()\n",
    "\n",
    "print(reuters_train_data.shape)\n",
    "print(reuters_train_labels.shape)\n",
    "print(reuters_train_data[0])\n",
    "print(reuters_train_labels[0])\n",
    "\n",
    "print(set(reuters_train_labels))"
   ]
  },
  {
   "cell_type": "markdown",
   "metadata": {},
   "source": [
    "Load the word index to decode the train data."
   ]
  },
  {
   "cell_type": "code",
   "execution_count": 71,
   "metadata": {},
   "outputs": [
    {
     "name": "stdout",
     "output_type": "stream",
     "text": [
      "<START> mcgrath rentcorp said as a result of its december acquisition of space co it expects earnings per share in 1987 of 1 15 to 1 30 dlrs per share up from 70 cts in 1986 the company said pretax net should rise to nine to 10 mln dlrs from six mln dlrs in 1986 and rental operation revenues to 19 to 22 mln dlrs from 12 5 mln dlrs it said cash flow per share this year should be 2 50 to three dlrs reuter 3\n"
     ]
    }
   ],
   "source": [
    "word_index = reuters.get_word_index()\n",
    "\n",
    "reverse_index = dict([(value+3, key) for (key, value) in word_index.items()])\n",
    "\n",
    "reverse_index[0] = \"<PAD>\"\n",
    "reverse_index[1] = \"<START>\"\n",
    "reverse_index[2] = \"<UNKNOWN>\"  # unknown\n",
    "reverse_index[3] = \"<UNUSED>\"\n",
    "\n",
    "decoded_review = ' '.join([reverse_index.get(i,'?') for i in reuters_train_data[0]])\n",
    "\n",
    "print(decoded_review)"
   ]
  },
  {
   "cell_type": "markdown",
   "metadata": {},
   "source": [
    "#### TO DO: Preprocess the data\n",
    "\n",
    "1. Normalize the input data set\n",
    "2. Perform one hot encoding\n",
    "3. Create a train, test, and validation set"
   ]
  },
  {
   "cell_type": "code",
   "execution_count": 72,
   "metadata": {},
   "outputs": [
    {
     "name": "stdout",
     "output_type": "stream",
     "text": [
      "(8982, 8982)\n",
      "(8982, 46)\n",
      "(7192, 8982)\n"
     ]
    }
   ],
   "source": [
    "tokenizer = Tokenizer(8982)\n",
    "reuters_train_data_token = tokenizer.sequences_to_matrix(reuters_train_data, mode = \"binary\")\n",
    "reuters_test_data_token = tokenizer.sequences_to_matrix(reuters_test_data, mode = \"binary\")\n",
    "\n",
    "print(reuters_train_data_token.shape)\n",
    "\n",
    "#one hot encoding\n",
    "one_hot_train_labels = to_categorical(reuters_train_labels)\n",
    "one_hot_test_labels = to_categorical(reuters_test_labels)\n",
    "\n",
    "print(one_hot_train_labels.shape)\n",
    "\n",
    "#validation set\n",
    "validation_data = reuters_train_data_token[:1790] #toma los primeros 5000 para validation\n",
    "validation_labels = one_hot_train_labels[:1790]\n",
    "\n",
    "#toma a partir del 5000 para los training\n",
    "x_data = reuters_train_data_token[1790:]\n",
    "y_data = one_hot_train_labels[1790:]\n",
    "\n",
    "print(x_data.shape)"
   ]
  },
  {
   "cell_type": "markdown",
   "metadata": {},
   "source": [
    "#### TO DO: Define and train a network, then plot the accuracy of the training, validation, and testing\n",
    "\n",
    "1. Use a validation set\n",
    "2. Propose and train a network\n",
    "3. Print the history of the training\n",
    "4. Evaluate with a test set"
   ]
  },
  {
   "cell_type": "code",
   "execution_count": 111,
   "metadata": {},
   "outputs": [
    {
     "name": "stdout",
     "output_type": "stream",
     "text": [
      "_________________________________________________________________\n",
      "Layer (type)                 Output Shape              Param #   \n",
      "=================================================================\n",
      "dense_47 (Dense)             (None, 25)                224575    \n",
      "_________________________________________________________________\n",
      "dropout_27 (Dropout)         (None, 25)                0         \n",
      "_________________________________________________________________\n",
      "dense_48 (Dense)             (None, 46)                1196      \n",
      "=================================================================\n",
      "Total params: 225,771\n",
      "Trainable params: 225,771\n",
      "Non-trainable params: 0\n",
      "_________________________________________________________________\n"
     ]
    }
   ],
   "source": [
    "network = models.Sequential()\n",
    "\n",
    "network.add(layers.Dense(25, activation='relu', input_dim = 8982)) #se puede cambiar la función de activación\n",
    "network.add(layers.Dropout(0.6))\n",
    "network.add(layers.Dense(46, activation=\"softmax\"))\n",
    "\n",
    "\n",
    "network.summary()\n",
    "\n",
    "early_stop = callbacks.EarlyStopping(monitor=\"val_loss\", patience = 3)\n",
    "network.compile(optimizer='adam', loss='categorical_crossentropy', metrics=['accuracy'])\n"
   ]
  },
  {
   "cell_type": "code",
   "execution_count": 112,
   "metadata": {
    "scrolled": true
   },
   "outputs": [
    {
     "name": "stdout",
     "output_type": "stream",
     "text": [
      "Train on 5753 samples, validate on 1439 samples\n",
      "Epoch 1/1000\n",
      " - 2s - loss: 2.6756 - acc: 0.4050 - val_loss: 1.6143 - val_acc: 0.6407\n",
      "Epoch 2/1000\n",
      " - 1s - loss: 1.6541 - acc: 0.6092 - val_loss: 1.3434 - val_acc: 0.6956\n",
      "Epoch 3/1000\n",
      " - 1s - loss: 1.4221 - acc: 0.6487 - val_loss: 1.2344 - val_acc: 0.7192\n",
      "Epoch 4/1000\n",
      " - 1s - loss: 1.2668 - acc: 0.6842 - val_loss: 1.1589 - val_acc: 0.7366\n",
      "Epoch 5/1000\n",
      " - 1s - loss: 1.1453 - acc: 0.7097 - val_loss: 1.1131 - val_acc: 0.7422\n",
      "Epoch 6/1000\n",
      " - 1s - loss: 1.0427 - acc: 0.7320 - val_loss: 1.0790 - val_acc: 0.7554\n",
      "Epoch 7/1000\n",
      " - 1s - loss: 0.9785 - acc: 0.7368 - val_loss: 1.0584 - val_acc: 0.7561\n",
      "Epoch 8/1000\n",
      " - 1s - loss: 0.9162 - acc: 0.7586 - val_loss: 1.0481 - val_acc: 0.7644\n",
      "Epoch 9/1000\n",
      " - 2s - loss: 0.8636 - acc: 0.7685 - val_loss: 1.0293 - val_acc: 0.7644\n",
      "Epoch 10/1000\n",
      " - 1s - loss: 0.8112 - acc: 0.7832 - val_loss: 1.0375 - val_acc: 0.7721\n",
      "Epoch 11/1000\n",
      " - 1s - loss: 0.7819 - acc: 0.7857 - val_loss: 1.0351 - val_acc: 0.7693\n",
      "Epoch 12/1000\n",
      " - 1s - loss: 0.7545 - acc: 0.7918 - val_loss: 1.0511 - val_acc: 0.7693\n"
     ]
    }
   ],
   "source": [
    "history = network.fit(x_data, y_data, batch_size =32, epochs = 1000,validation_split=0.2,callbacks=[early_stop], verbose=2,shuffle=True)"
   ]
  },
  {
   "cell_type": "markdown",
   "metadata": {},
   "source": [
    "#### Evaluate the model, and plot the validation and accuracy"
   ]
  },
  {
   "cell_type": "code",
   "execution_count": 113,
   "metadata": {},
   "outputs": [
    {
     "name": "stdout",
     "output_type": "stream",
     "text": [
      "2246/2246 [==============================] - 0s 110us/step\n",
      "[1.0699723391053089, 0.7609082813891362]\n"
     ]
    }
   ],
   "source": [
    "#evaluate the test data\n",
    "results = network.evaluate(reuters_test_data_token, one_hot_test_labels)\n",
    "print(results)"
   ]
  },
  {
   "cell_type": "code",
   "execution_count": 114,
   "metadata": {},
   "outputs": [],
   "source": [
    "history_dict = history.history\n",
    "acc = history_dict['acc']\n",
    "val_acc = history_dict['val_acc']\n",
    "loss = history_dict['loss']\n",
    "val_loss = history_dict['val_loss']\n",
    "epochs = range(1, len(acc) + 1)"
   ]
  },
  {
   "cell_type": "code",
   "execution_count": 115,
   "metadata": {},
   "outputs": [
    {
     "data": {
      "image/png": "[encoded data removed]",
      "text/plain": [
       "<Figure size 432x288 with 1 Axes>"
      ]
     },
     "metadata": {
      "needs_background": "light"
     },
     "output_type": "display_data"
    }
   ],
   "source": [
    "# Plot of the validation and training loss\n",
    "\n",
    "plt.plot(epochs, loss, 'r', label='Training loss')#red line\n",
    "plt.plot(epochs, val_loss, 'b', label='Validation loss')#blue line\n",
    "plt.title('Training and validation loss')\n",
    "plt.xlabel('Epochs')\n",
    "plt.ylabel('Loss')\n",
    "plt.legend()\n",
    "\n",
    "plt.show()"
   ]
  },
  {
   "cell_type": "code",
   "execution_count": 116,
   "metadata": {},
   "outputs": [
    {
     "data": {
      "image/png": "[encoded data removed]",
      "text/plain": [
       "<Figure size 432x288 with 1 Axes>"
      ]
     },
     "metadata": {
      "needs_background": "light"
     },
     "output_type": "display_data"
    }
   ],
   "source": [
    "# Plot of the validation and train accuracy\n",
    "\n",
    "plt.clf()   # clear figure\n",
    "\n",
    "plt.plot(epochs, acc, 'r', label='Training acc')#red line\n",
    "plt.plot(epochs, val_acc, 'b', label='Validation acc')#blue line\n",
    "plt.title('Training and validation accuracy')\n",
    "plt.xlabel('Epochs')\n",
    "plt.ylabel('Accuracy')\n",
    "plt.legend()\n",
    "\n",
    "plt.show()"
   ]
  },
  {
   "cell_type": "markdown",
   "metadata": {},
   "source": [
    "#### Followed model\n",
    "\n",
    "For this network, I tried first to do as much overfitting as possible, subsequently reduce the number of features that the network could learn, to do this the number of neurons was reduced to the minimum point in which it continued to generate overfitting, this was until It got to 8 neurons, also a dropout of 0.3 was added to \n",
    "to reduce as much as possible the overfitting."
   ]
  },
  {
   "cell_type": "markdown",
   "metadata": {},
   "source": [
    "## Predicting Student Admissions\n",
    "\n",
    "---\n",
    "\n",
    "Predict student admissions based on three pieces of data:\n",
    "\n",
    "- GRE Scores\n",
    "- GPA Scores\n",
    "- Class rank"
   ]
  },
  {
   "cell_type": "markdown",
   "metadata": {},
   "source": [
    "### Load and visualize the data"
   ]
  },
  {
   "cell_type": "code",
   "execution_count": 117,
   "metadata": {},
   "outputs": [
    {
     "name": "stdout",
     "output_type": "stream",
     "text": [
      "     admit  gre   gpa  rank\n",
      "0        0  380  3.61     3\n",
      "1        1  660  3.67     3\n",
      "2        1  800  4.00     1\n",
      "3        1  640  3.19     4\n",
      "4        0  520  2.93     4\n",
      "5        1  760  3.00     2\n",
      "6        1  560  2.98     1\n",
      "7        0  400  3.08     2\n",
      "8        1  540  3.39     3\n",
      "9        0  700  3.92     2\n",
      "10       0  800  4.00     4\n",
      "11       0  440  3.22     1\n",
      "12       1  760  4.00     1\n",
      "13       0  700  3.08     2\n",
      "14       1  700  4.00     1\n",
      "15       0  480  3.44     3\n",
      "16       0  780  3.87     4\n",
      "17       0  360  2.56     3\n",
      "18       0  800  3.75     2\n",
      "19       1  540  3.81     1\n",
      "20       0  500  3.17     3\n",
      "21       1  660  3.63     2\n",
      "22       0  600  2.82     4\n",
      "23       0  680  3.19     4\n",
      "24       1  760  3.35     2\n",
      "25       1  800  3.66     1\n",
      "26       1  620  3.61     1\n",
      "27       1  520  3.74     4\n",
      "28       1  780  3.22     2\n",
      "29       0  520  3.29     1\n",
      "..     ...  ...   ...   ...\n",
      "367      1  540  3.77     2\n",
      "368      1  680  3.76     3\n",
      "369      1  680  2.42     1\n",
      "370      1  620  3.37     1\n",
      "371      0  560  3.78     2\n",
      "372      0  560  3.49     4\n",
      "373      0  620  3.63     2\n",
      "374      1  800  4.00     2\n",
      "375      0  640  3.12     3\n",
      "376      0  540  2.70     2\n",
      "377      0  700  3.65     2\n",
      "378      1  540  3.49     2\n",
      "379      0  540  3.51     2\n",
      "380      0  660  4.00     1\n",
      "381      1  480  2.62     2\n",
      "382      0  420  3.02     1\n",
      "383      1  740  3.86     2\n",
      "384      0  580  3.36     2\n",
      "385      0  640  3.17     2\n",
      "386      0  640  3.51     2\n",
      "387      1  800  3.05     2\n",
      "388      1  660  3.88     2\n",
      "389      1  600  3.38     3\n",
      "390      1  620  3.75     2\n",
      "391      1  460  3.99     3\n",
      "392      0  620  4.00     2\n",
      "393      0  560  3.04     3\n",
      "394      0  460  2.63     2\n",
      "395      0  700  3.65     2\n",
      "396      0  600  3.89     3\n",
      "\n",
      "[397 rows x 4 columns]\n"
     ]
    }
   ],
   "source": [
    "student_data = pd.read_csv(\"student_data.csv\")\n",
    "print(student_data)"
   ]
  },
  {
   "cell_type": "markdown",
   "metadata": {},
   "source": [
    "Plot of the GRE and the GPA from the data."
   ]
  },
  {
   "cell_type": "code",
   "execution_count": 118,
   "metadata": {},
   "outputs": [
    {
     "data": {
      "image/png": "[encoded data removed]",
      "text/plain": [
       "<Figure size 432x288 with 1 Axes>"
      ]
     },
     "metadata": {
      "needs_background": "light"
     },
     "output_type": "display_data"
    }
   ],
   "source": [
    "X = np.array(student_data[[\"gre\",\"gpa\"]])\n",
    "y = np.array(student_data[\"admit\"])\n",
    "admitted = X[np.argwhere(y==1)]\n",
    "rejected = X[np.argwhere(y==0)]\n",
    "plt.scatter([s[0][0] for s in rejected], [s[0][1] for s in rejected], s = 25, color = 'red', edgecolor = 'k')\n",
    "plt.scatter([s[0][0] for s in admitted], [s[0][1] for s in admitted], s = 25, color = 'cyan', edgecolor = 'k')\n",
    "plt.xlabel('Test (GRE)')\n",
    "plt.ylabel('Grades (GPA)')\n",
    "\n",
    "plt.show()"
   ]
  },
  {
   "cell_type": "markdown",
   "metadata": {},
   "source": [
    "Plot of the data by class rank."
   ]
  },
  {
   "cell_type": "code",
   "execution_count": 119,
   "metadata": {},
   "outputs": [
    {
     "data": {
      "image/png": "[encoded data removed]",
      "text/plain": [
       "<Figure size 1440x720 with 4 Axes>"
      ]
     },
     "metadata": {
      "needs_background": "light"
     },
     "output_type": "display_data"
    }
   ],
   "source": [
    "f, plots = plt.subplots(2, 2, figsize=(20,10))\n",
    "plots = [plot for sublist in plots for plot in sublist]\n",
    "\n",
    "for idx, plot in enumerate(plots):\n",
    "    data_rank = student_data[student_data[\"rank\"]==idx+1]\n",
    "    plot.set_title(\"Rank \" + str(idx+1))\n",
    "    X = np.array(data_rank[[\"gre\",\"gpa\"]])\n",
    "    y = np.array(data_rank[\"admit\"])\n",
    "    admitted = X[np.argwhere(y==1)]\n",
    "    rejected = X[np.argwhere(y==0)]\n",
    "    plot.scatter([s[0][0] for s in rejected], [s[0][1] for s in rejected], s = 25, color = 'red', edgecolor = 'k')\n",
    "    plot.scatter([s[0][0] for s in admitted], [s[0][1] for s in admitted], s = 25, color = 'cyan', edgecolor = 'k')\n",
    "    plot.set_xlabel('Test (GRE)')\n",
    "    plot.set_ylabel('Grades (GPA)')\n",
    "    "
   ]
  },
  {
   "cell_type": "markdown",
   "metadata": {},
   "source": [
    "#### TO DO: Preprocess the data\n",
    "\n",
    "1. Normalize the input data set\n",
    "2. Perform one hot encoding\n",
    "3. Create a train, test, and validation set"
   ]
  },
  {
   "cell_type": "code",
   "execution_count": 171,
   "metadata": {},
   "outputs": [
    {
     "name": "stdout",
     "output_type": "stream",
     "text": [
      "[[ 0.79726136  0.65246087  0.          0.          1.          0.        ]\n",
      " [-2.49073362 -1.24362767  0.          0.          0.          1.        ]\n",
      " [-0.76020992 -1.00661683  0.          0.          0.          1.        ]\n",
      " ...\n",
      " [ 1.1433661   1.44249761  0.          0.          1.          0.        ]\n",
      " [-0.24105284 -0.19024557  0.          0.          0.          1.        ]\n",
      " [-1.62547183  0.31011125  0.          0.          1.          0.        ]]\n"
     ]
    }
   ],
   "source": [
    "#problema con alumnos que no tienen gre o gpa \n",
    "#Normalizando la información\n",
    "#Información continua\n",
    "#-media/devstand\n",
    "#datos continuos\n",
    "#para predecir debo restarle 1\n",
    "\n",
    "data = np.array(student_data, dtype = np.float32)\n",
    "np.random.shuffle(data)\n",
    "\n",
    "media_gre = np.average(data[:,1])\n",
    "std_gre = np.std(data[:,1])\n",
    "\n",
    "media_gpa = np.average(data[:,2])\n",
    "std_gpa = np.std(data[:,2])\n",
    "\n",
    "norm_gre = (data[:,1]-media_gre)/std_gre\n",
    "norm_gpa = (data[:,2]-media_gpa)/std_gpa\n",
    "dat = to_categorical(data[:,3]-1) \n",
    "\n",
    "\n",
    "\n",
    "inputs = np.zeros((len(data),6))\n",
    "inputs[:,0] = norm_gre\n",
    "inputs[:,1] = norm_gpa\n",
    "inputs[:,2:6] = dat\n",
    "print(inputs)\n",
    "\n",
    "train_data = inputs[130:]\n",
    "train_labels = to_categorical(data[130:,0])\n",
    "\n",
    "test_data = inputs[80:130]\n",
    "test_labels = to_categorical(data[80:130,0])\n",
    "\n",
    "validation_data = inputs[:80]\n",
    "validation_labels = to_categorical(data[:80,0])"
   ]
  },
  {
   "cell_type": "markdown",
   "metadata": {},
   "source": [
    "#### TO DO: Define and train a network, then plot the accuracy of the training, validation, and testing\n",
    "\n",
    "1. Use a validation set\n",
    "2. Propose and train a network\n",
    "3. Print the history of the training\n",
    "4. Evaluate with a test set"
   ]
  },
  {
   "cell_type": "code",
   "execution_count": 172,
   "metadata": {},
   "outputs": [
    {
     "name": "stdout",
     "output_type": "stream",
     "text": [
      "_________________________________________________________________\n",
      "Layer (type)                 Output Shape              Param #   \n",
      "=================================================================\n",
      "dense_73 (Dense)             (None, 32)                224       \n",
      "_________________________________________________________________\n",
      "dropout_44 (Dropout)         (None, 32)                0         \n",
      "_________________________________________________________________\n",
      "dense_74 (Dense)             (None, 16)                528       \n",
      "_________________________________________________________________\n",
      "dropout_45 (Dropout)         (None, 16)                0         \n",
      "_________________________________________________________________\n",
      "dense_75 (Dense)             (None, 2)                 34        \n",
      "=================================================================\n",
      "Total params: 786\n",
      "Trainable params: 786\n",
      "Non-trainable params: 0\n",
      "_________________________________________________________________\n"
     ]
    }
   ],
   "source": [
    "import random\n",
    "network = models.Sequential()\n",
    "\n",
    "network.add(layers.Dense(32, activation='relu', input_dim = 6))\n",
    "network.add(layers.Dropout(0.5))\n",
    "network.add(layers.Dense(16, activation='relu'))\n",
    "network.add(layers.Dropout(0.3))\n",
    "network.add(layers.Dense(2, activation=\"softmax\"))\n",
    "\n",
    "#,kernel_regularizer=regularizers.l2(0.01)\n",
    "network.summary()\n",
    "\n",
    "adam = optimizers.Adam(lr=0.001, beta_1=0.9, beta_2=0.999, epsilon=None, decay=0.0, amsgrad=False)\n",
    "early_stop = callbacks.EarlyStopping(monitor=\"val_loss\", patience = 15)\n",
    "network.compile(optimizer=adam, loss='binary_crossentropy', metrics=['accuracy'])"
   ]
  },
  {
   "cell_type": "code",
   "execution_count": 173,
   "metadata": {},
   "outputs": [
    {
     "name": "stdout",
     "output_type": "stream",
     "text": [
      "Train on 267 samples, validate on 80 samples\n",
      "Epoch 1/1000\n",
      " - 1s - loss: 0.8114 - acc: 0.3521 - val_loss: 0.7102 - val_acc: 0.4125\n",
      "Epoch 2/1000\n",
      " - 0s - loss: 0.7639 - acc: 0.4644 - val_loss: 0.6899 - val_acc: 0.5375\n",
      "Epoch 3/1000\n",
      " - 0s - loss: 0.7327 - acc: 0.4831 - val_loss: 0.6740 - val_acc: 0.6000\n",
      "Epoch 4/1000\n",
      " - 0s - loss: 0.6912 - acc: 0.5356 - val_loss: 0.6612 - val_acc: 0.6500\n",
      "Epoch 5/1000\n",
      " - 0s - loss: 0.6899 - acc: 0.5169 - val_loss: 0.6504 - val_acc: 0.6750\n",
      "Epoch 6/1000\n",
      " - 0s - loss: 0.6717 - acc: 0.5655 - val_loss: 0.6418 - val_acc: 0.6500\n",
      "Epoch 7/1000\n",
      " - 0s - loss: 0.7007 - acc: 0.5506 - val_loss: 0.6353 - val_acc: 0.6500\n",
      "Epoch 8/1000\n",
      " - 0s - loss: 0.6564 - acc: 0.6030 - val_loss: 0.6295 - val_acc: 0.6500\n",
      "Epoch 9/1000\n",
      " - 0s - loss: 0.6762 - acc: 0.5843 - val_loss: 0.6252 - val_acc: 0.6500\n",
      "Epoch 10/1000\n",
      " - 0s - loss: 0.6679 - acc: 0.5918 - val_loss: 0.6219 - val_acc: 0.6500\n",
      "Epoch 11/1000\n",
      " - 0s - loss: 0.6660 - acc: 0.5581 - val_loss: 0.6186 - val_acc: 0.6500\n",
      "Epoch 12/1000\n",
      " - 0s - loss: 0.6420 - acc: 0.5918 - val_loss: 0.6160 - val_acc: 0.6500\n",
      "Epoch 13/1000\n",
      " - 0s - loss: 0.6570 - acc: 0.6367 - val_loss: 0.6139 - val_acc: 0.6500\n",
      "Epoch 14/1000\n",
      " - 0s - loss: 0.6582 - acc: 0.6217 - val_loss: 0.6125 - val_acc: 0.6500\n",
      "Epoch 15/1000\n",
      " - 0s - loss: 0.6437 - acc: 0.6330 - val_loss: 0.6118 - val_acc: 0.6500\n",
      "Epoch 16/1000\n",
      " - 0s - loss: 0.6350 - acc: 0.6554 - val_loss: 0.6111 - val_acc: 0.6500\n",
      "Epoch 17/1000\n",
      " - 0s - loss: 0.6296 - acc: 0.6330 - val_loss: 0.6108 - val_acc: 0.6500\n",
      "Epoch 18/1000\n",
      " - 0s - loss: 0.6411 - acc: 0.6517 - val_loss: 0.6107 - val_acc: 0.6500\n",
      "Epoch 19/1000\n",
      " - 0s - loss: 0.6358 - acc: 0.6479 - val_loss: 0.6105 - val_acc: 0.6500\n",
      "Epoch 20/1000\n",
      " - 0s - loss: 0.6381 - acc: 0.6592 - val_loss: 0.6100 - val_acc: 0.6500\n",
      "Epoch 21/1000\n",
      " - 0s - loss: 0.6467 - acc: 0.6517 - val_loss: 0.6095 - val_acc: 0.6500\n",
      "Epoch 22/1000\n",
      " - 0s - loss: 0.6542 - acc: 0.6592 - val_loss: 0.6090 - val_acc: 0.6500\n",
      "Epoch 23/1000\n",
      " - 0s - loss: 0.6293 - acc: 0.6704 - val_loss: 0.6086 - val_acc: 0.6500\n",
      "Epoch 24/1000\n",
      " - 0s - loss: 0.6045 - acc: 0.6816 - val_loss: 0.6081 - val_acc: 0.6500\n",
      "Epoch 25/1000\n",
      " - 0s - loss: 0.6342 - acc: 0.6629 - val_loss: 0.6076 - val_acc: 0.6500\n",
      "Epoch 26/1000\n",
      " - 0s - loss: 0.6500 - acc: 0.6517 - val_loss: 0.6073 - val_acc: 0.6500\n",
      "Epoch 27/1000\n",
      " - 0s - loss: 0.6429 - acc: 0.6742 - val_loss: 0.6074 - val_acc: 0.6500\n",
      "Epoch 28/1000\n",
      " - 0s - loss: 0.6295 - acc: 0.6742 - val_loss: 0.6075 - val_acc: 0.6500\n",
      "Epoch 29/1000\n",
      " - 0s - loss: 0.6271 - acc: 0.6704 - val_loss: 0.6074 - val_acc: 0.6500\n",
      "Epoch 30/1000\n",
      " - 0s - loss: 0.6331 - acc: 0.6667 - val_loss: 0.6077 - val_acc: 0.6500\n",
      "Epoch 31/1000\n",
      " - 0s - loss: 0.5964 - acc: 0.6704 - val_loss: 0.6078 - val_acc: 0.6500\n",
      "Epoch 32/1000\n",
      " - 0s - loss: 0.6026 - acc: 0.6929 - val_loss: 0.6080 - val_acc: 0.6500\n",
      "Epoch 33/1000\n",
      " - 0s - loss: 0.6059 - acc: 0.6966 - val_loss: 0.6079 - val_acc: 0.6500\n",
      "Epoch 34/1000\n",
      " - 0s - loss: 0.6192 - acc: 0.6704 - val_loss: 0.6078 - val_acc: 0.6500\n",
      "Epoch 35/1000\n",
      " - 0s - loss: 0.6162 - acc: 0.6891 - val_loss: 0.6076 - val_acc: 0.6500\n",
      "Epoch 36/1000\n",
      " - 0s - loss: 0.6247 - acc: 0.6816 - val_loss: 0.6075 - val_acc: 0.6500\n",
      "Epoch 37/1000\n",
      " - 0s - loss: 0.6114 - acc: 0.6667 - val_loss: 0.6074 - val_acc: 0.6500\n",
      "Epoch 38/1000\n",
      " - 0s - loss: 0.6187 - acc: 0.6816 - val_loss: 0.6072 - val_acc: 0.6500\n",
      "Epoch 39/1000\n",
      " - 0s - loss: 0.6016 - acc: 0.6891 - val_loss: 0.6069 - val_acc: 0.6500\n",
      "Epoch 40/1000\n",
      " - 0s - loss: 0.6218 - acc: 0.6854 - val_loss: 0.6071 - val_acc: 0.6500\n",
      "Epoch 41/1000\n",
      " - 0s - loss: 0.6019 - acc: 0.6929 - val_loss: 0.6071 - val_acc: 0.6500\n",
      "Epoch 42/1000\n",
      " - 0s - loss: 0.6454 - acc: 0.6667 - val_loss: 0.6070 - val_acc: 0.6500\n",
      "Epoch 43/1000\n",
      " - 0s - loss: 0.6268 - acc: 0.6891 - val_loss: 0.6071 - val_acc: 0.6500\n",
      "Epoch 44/1000\n",
      " - 0s - loss: 0.5911 - acc: 0.6816 - val_loss: 0.6072 - val_acc: 0.6500\n",
      "Epoch 45/1000\n",
      " - 0s - loss: 0.6097 - acc: 0.6779 - val_loss: 0.6070 - val_acc: 0.6500\n",
      "Epoch 46/1000\n",
      " - 0s - loss: 0.6108 - acc: 0.6816 - val_loss: 0.6073 - val_acc: 0.6500\n",
      "Epoch 47/1000\n",
      " - 0s - loss: 0.6127 - acc: 0.6742 - val_loss: 0.6075 - val_acc: 0.6500\n",
      "Epoch 48/1000\n",
      " - 0s - loss: 0.6167 - acc: 0.6966 - val_loss: 0.6075 - val_acc: 0.6500\n",
      "Epoch 49/1000\n",
      " - 0s - loss: 0.5910 - acc: 0.6779 - val_loss: 0.6075 - val_acc: 0.6500\n",
      "Epoch 50/1000\n",
      " - 0s - loss: 0.6043 - acc: 0.6891 - val_loss: 0.6074 - val_acc: 0.6500\n",
      "Epoch 51/1000\n",
      " - 0s - loss: 0.6009 - acc: 0.6704 - val_loss: 0.6072 - val_acc: 0.6500\n",
      "Epoch 52/1000\n",
      " - 0s - loss: 0.6273 - acc: 0.6816 - val_loss: 0.6074 - val_acc: 0.6500\n",
      "Epoch 53/1000\n",
      " - 0s - loss: 0.6191 - acc: 0.6816 - val_loss: 0.6076 - val_acc: 0.6500\n",
      "Epoch 54/1000\n",
      " - 0s - loss: 0.6202 - acc: 0.6891 - val_loss: 0.6078 - val_acc: 0.6500\n"
     ]
    }
   ],
   "source": [
    "history = network.fit(train_data, train_labels, batch_size =64, epochs = 1000,validation_data = (validation_data, validation_labels),callbacks=[early_stop], verbose=2,shuffle=True)\n",
    "#,callbacks=[early_stop]"
   ]
  },
  {
   "cell_type": "markdown",
   "metadata": {},
   "source": [
    "#### Evaluate the model, and plot the validation and accuracy"
   ]
  },
  {
   "cell_type": "code",
   "execution_count": 174,
   "metadata": {},
   "outputs": [
    {
     "name": "stdout",
     "output_type": "stream",
     "text": [
      "50/50 [==============================] - 0s 130us/step\n",
      "[0.5406178963184357, 0.7399999928474427]\n"
     ]
    }
   ],
   "source": [
    "results = network.evaluate(test_data, test_labels)\n",
    "print(results)"
   ]
  },
  {
   "cell_type": "code",
   "execution_count": 175,
   "metadata": {},
   "outputs": [],
   "source": [
    "history_dict = history.history\n",
    "acc = history_dict['acc']\n",
    "val_acc = history_dict['val_acc']\n",
    "loss = history_dict['loss']\n",
    "val_loss = history_dict['val_loss']\n",
    "epochs = range(1, len(acc) + 1)"
   ]
  },
  {
   "cell_type": "code",
   "execution_count": 176,
   "metadata": {},
   "outputs": [
    {
     "data": {
      "image/png": "[encoded data removed]",
      "text/plain": [
       "<Figure size 432x288 with 1 Axes>"
      ]
     },
     "metadata": {
      "needs_background": "light"
     },
     "output_type": "display_data"
    }
   ],
   "source": [
    "# Plot of the validation and training loss\n",
    "\n",
    "plt.plot(epochs, loss, 'r', label='Training loss')#red line\n",
    "plt.plot(epochs, val_loss, 'b', label='Validation loss')#blue line\n",
    "plt.title('Training and validation loss')\n",
    "plt.xlabel('Epochs')\n",
    "plt.ylabel('Loss')\n",
    "plt.legend()\n",
    "\n",
    "plt.show()"
   ]
  },
  {
   "cell_type": "code",
   "execution_count": 177,
   "metadata": {},
   "outputs": [
    {
     "data": {
      "image/png": "[encoded data removed]",
      "text/plain": [
       "<Figure size 432x288 with 1 Axes>"
      ]
     },
     "metadata": {
      "needs_background": "light"
     },
     "output_type": "display_data"
    }
   ],
   "source": [
    "# Plot of the validation and train accuracy\n",
    "\n",
    "plt.clf()   # clear figure\n",
    "\n",
    "plt.plot(epochs, acc, 'r', label='Training acc')#red line\n",
    "plt.plot(epochs, val_acc, 'b', label='Validation acc')#blue line\n",
    "plt.title('Training and validation accuracy')\n",
    "plt.xlabel('Epochs')\n",
    "plt.ylabel('Accuracy')\n",
    "plt.legend()\n",
    "\n",
    "plt.show()"
   ]
  },
  {
   "cell_type": "markdown",
   "metadata": {},
   "source": [
    "#### Followed model\n",
    "\n",
    "For this network, I tried first to do as much overfitting as possible, in order to reduce the overfitting in this case the graphics were very useful, since in them I was able to see the discrepancy between the validation and the train accuaracy/loss, so to get the best result of the network I increased the number of neurons and the dropout the have."
   ]
  },
  {
   "cell_type": "markdown",
   "metadata": {},
   "source": [
    "#### General conclusion\n",
    "According to https://keras.rstudio.com/articles/tutorial_overfit_underfit.html there are 4 ways in which you can deal with overffiting: \n",
    "-\tWeight regularization.\n",
    "-\tDropout.\n",
    "-\tCreate a smaller neural network model. \n",
    "-\tExtend the dataset. \n",
    "In model 2 and 3, weight regularization, dropout strategies and smaller models were tested, weight regularization was not added as it had a negative impact on the learning of the network. \n",
    "For problem 2 and 3, the 85% required by this activity was not reached, since the information given to the neural network is too small for it to learn. The information of these datasets can not be extended because if I added my own information the network would learn features that are not real. Analyzing the distribution of the data it was concluded that these are too mixed and even a person reviewing them manually could easily make a classification error, so it is concluded that with the dataset of exercises 2 and 3 it is not possible for the neural network to learn.\n"
   ]
  },
  {
   "cell_type": "code",
   "execution_count": null,
   "metadata": {},
   "outputs": [],
   "source": []
  }
 ],
 "metadata": {
  "kernelspec": {
   "display_name": "Python 3",
   "language": "python",
   "name": "python3"
  },
  "language_info": {
   "codemirror_mode": {
    "name": "ipython",
    "version": 3
   },
   "file_extension": ".py",
   "mimetype": "text/x-python",
   "name": "python",
   "nbconvert_exporter": "python",
   "pygments_lexer": "ipython3",
   "version": "3.6.8"
  }
 },
 "nbformat": 4,
 "nbformat_minor": 2
}
