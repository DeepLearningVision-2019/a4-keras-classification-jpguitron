{
 "cells": [
  {
   "cell_type": "markdown",
   "metadata": {},
   "source": [
    "# Classify different data sets"
   ]
  },
  {
   "cell_type": "markdown",
   "metadata": {},
   "source": [
    "### Basic includes"
   ]
  },
  {
   "cell_type": "code",
   "execution_count": 1,
   "metadata": {},
   "outputs": [
    {
     "name": "stderr",
     "output_type": "stream",
     "text": [
      "Using TensorFlow backend.\n"
     ]
    }
   ],
   "source": [
    "# Using pandas to load the csv file\n",
    "import pandas as pd\n",
    "\n",
    "import numpy as np\n",
    "import matplotlib.pyplot as plt\n",
    "\n",
    "from keras import models \n",
    "from keras import layers \n",
    "from keras import callbacks\n",
    "from keras.utils import to_categorical\n",
    "from keras import optimizers\n",
    "from keras import regularizers\n",
    "\n",
    "# reuters and fashin mnist data set from keras\n",
    "from keras.datasets import reuters\n",
    "from keras.datasets import fashion_mnist\n",
    "\n",
    "# needed to preprocess text\n",
    "from keras.preprocessing.text import Tokenizer"
   ]
  },
  {
   "cell_type": "markdown",
   "metadata": {},
   "source": [
    "### Classify the Fashion Mnist\n",
    "\n",
    "---"
   ]
  },
  {
   "cell_type": "code",
   "execution_count": 2,
   "metadata": {},
   "outputs": [
    {
     "name": "stdout",
     "output_type": "stream",
     "text": [
      "(60000, 28, 28)\n"
     ]
    },
    {
     "data": {
      "text/plain": [
       "<matplotlib.image.AxesImage at 0x7fc10637e780>"
      ]
     },
     "execution_count": 2,
     "metadata": {},
     "output_type": "execute_result"
    },
    {
     "data": {
      "image/png": "[encoded data removed]",
      "text/plain": [
       "<Figure size 432x288 with 1 Axes>"
      ]
     },
     "metadata": {
      "needs_background": "light"
     },
     "output_type": "display_data"
    }
   ],
   "source": [
    "(fashion_train_data, fashion_train_labels), (fashion_test_data, fashion_test_labels) = fashion_mnist.load_data()\n",
    "\n",
    "print(fashion_train_data.shape)\n",
    "\n",
    "test_index = 10\n",
    "\n",
    "plt.title(\"Label: \" + str(fashion_train_labels[test_index]))\n",
    "plt.imshow(fashion_train_data[test_index], cmap=\"gray\")"
   ]
  },
  {
   "cell_type": "markdown",
   "metadata": {},
   "source": [
    "#### TO DO: Preprocess the data\n",
    "\n",
    "1. Normalize the input data set\n",
    "2. Perform one hot encoding\n",
    "3. Create a train, test, and validation set"
   ]
  },
  {
   "cell_type": "code",
   "execution_count": 3,
   "metadata": {},
   "outputs": [
    {
     "name": "stdout",
     "output_type": "stream",
     "text": [
      "(60000, 784)\n",
      "(60000, 10)\n",
      "(55000, 784)\n"
     ]
    }
   ],
   "source": [
    "\n",
    "# flatten arrays\n",
    "fashion_train_data = fashion_train_data.reshape((60000, 28 * 28))\n",
    "fashion_train_data = fashion_train_data.astype('float32') / 255 \n",
    "\n",
    "print(fashion_train_data.shape)\n",
    "\n",
    "# same starndadization for the test images\n",
    "fashion_test_data = fashion_test_data.reshape((10000, 28 * 28)) \n",
    "fashion_test_data = fashion_test_data.astype('float32') / 255\n",
    "\n",
    "# one hot encoding\n",
    "fashion_train_labels = to_categorical(fashion_train_labels) \n",
    "fashion_test_labels = to_categorical(fashion_test_labels)\n",
    "\n",
    "print(fashion_train_labels.shape)\n",
    "\n",
    "#validation set\n",
    "validation_data = fashion_train_data[:5000] #toma los primeros 5000 para validation\n",
    "validation_labels = fashion_train_labels[:5000]\n",
    "\n",
    "#toma a partir del 5000 para los training\n",
    "x_data = fashion_train_data[5000:]\n",
    "y_data = fashion_train_labels[5000:]\n",
    "\n",
    "print(x_data.shape)"
   ]
  },
  {
   "cell_type": "markdown",
   "metadata": {},
   "source": [
    "#### TO DO: Define and train a network, then plot the accuracy of the training, validation, and testing\n",
    "\n",
    "1. Use a validation set\n",
    "2. Propose and train a network\n",
    "3. Print the history of the training\n",
    "4. Evaluate with a test set"
   ]
  },
  {
   "cell_type": "code",
   "execution_count": 4,
   "metadata": {},
   "outputs": [
    {
     "name": "stdout",
     "output_type": "stream",
     "text": [
      "_________________________________________________________________\n",
      "Layer (type)                 Output Shape              Param #   \n",
      "=================================================================\n",
      "dense_1 (Dense)              (None, 256)               200960    \n",
      "_________________________________________________________________\n",
      "dense_2 (Dense)              (None, 64)                16448     \n",
      "_________________________________________________________________\n",
      "dropout_1 (Dropout)          (None, 64)                0         \n",
      "_________________________________________________________________\n",
      "dense_3 (Dense)              (None, 10)                650       \n",
      "=================================================================\n",
      "Total params: 218,058\n",
      "Trainable params: 218,058\n",
      "Non-trainable params: 0\n",
      "_________________________________________________________________\n"
     ]
    }
   ],
   "source": [
    "network = models.Sequential()\n",
    "\n",
    "network.add(layers.Dense(256, activation='relu', input_shape=(28 * 28,))) #se puede cambiar la función de activación\n",
    "#network.add(layers.Dropout(0.1))\n",
    "network.add(layers.Dense(64, activation='relu'))\n",
    "network.add(layers.Dropout(0.2))\n",
    "network.add(layers.Dense(10, activation='softmax'))\n",
    "\n",
    "network.summary()\n",
    "\n",
    "early_stop = callbacks.EarlyStopping(monitor=\"val_loss\", patience = 5)\n",
    "network.compile(optimizer='adam', loss='categorical_crossentropy', metrics=['accuracy'])\n",
    "\n"
   ]
  },
  {
   "cell_type": "code",
   "execution_count": 5,
   "metadata": {},
   "outputs": [
    {
     "name": "stdout",
     "output_type": "stream",
     "text": [
      "Train on 55000 samples, validate on 5000 samples\n",
      "Epoch 1/50\n",
      " - 3s - loss: 0.6583 - acc: 0.7717 - val_loss: 0.4213 - val_acc: 0.8506\n",
      "Epoch 2/50\n",
      " - 2s - loss: 0.4315 - acc: 0.8468 - val_loss: 0.3643 - val_acc: 0.8712\n",
      "Epoch 3/50\n",
      " - 2s - loss: 0.3819 - acc: 0.8633 - val_loss: 0.3424 - val_acc: 0.8750\n",
      "Epoch 4/50\n",
      " - 2s - loss: 0.3527 - acc: 0.8722 - val_loss: 0.3338 - val_acc: 0.8766\n",
      "Epoch 5/50\n",
      " - 2s - loss: 0.3321 - acc: 0.8787 - val_loss: 0.3222 - val_acc: 0.8868\n",
      "Epoch 6/50\n",
      " - 1s - loss: 0.3132 - acc: 0.8857 - val_loss: 0.3148 - val_acc: 0.8862\n",
      "Epoch 7/50\n",
      " - 1s - loss: 0.3039 - acc: 0.8879 - val_loss: 0.3010 - val_acc: 0.8892\n",
      "Epoch 8/50\n",
      " - 1s - loss: 0.2869 - acc: 0.8938 - val_loss: 0.3002 - val_acc: 0.8942\n",
      "Epoch 9/50\n",
      " - 1s - loss: 0.2798 - acc: 0.8965 - val_loss: 0.3053 - val_acc: 0.8874\n",
      "Epoch 10/50\n",
      " - 1s - loss: 0.2678 - acc: 0.9024 - val_loss: 0.3013 - val_acc: 0.8862\n",
      "Epoch 11/50\n",
      " - 1s - loss: 0.2616 - acc: 0.9023 - val_loss: 0.2918 - val_acc: 0.8928\n",
      "Epoch 12/50\n",
      " - 1s - loss: 0.2504 - acc: 0.9071 - val_loss: 0.2912 - val_acc: 0.8908\n",
      "Epoch 13/50\n",
      " - 1s - loss: 0.2415 - acc: 0.9102 - val_loss: 0.2916 - val_acc: 0.8984\n",
      "Epoch 14/50\n",
      " - 1s - loss: 0.2364 - acc: 0.9118 - val_loss: 0.2973 - val_acc: 0.8914\n",
      "Epoch 15/50\n",
      " - 1s - loss: 0.2308 - acc: 0.9138 - val_loss: 0.2815 - val_acc: 0.8976\n",
      "Epoch 16/50\n",
      " - 1s - loss: 0.2192 - acc: 0.9171 - val_loss: 0.2850 - val_acc: 0.8968\n",
      "Epoch 17/50\n",
      " - 1s - loss: 0.2143 - acc: 0.9196 - val_loss: 0.2798 - val_acc: 0.9020\n",
      "Epoch 18/50\n",
      " - 1s - loss: 0.2117 - acc: 0.9208 - val_loss: 0.2874 - val_acc: 0.9026\n",
      "Epoch 19/50\n",
      " - 1s - loss: 0.2069 - acc: 0.9216 - val_loss: 0.2895 - val_acc: 0.9030\n",
      "Epoch 20/50\n",
      " - 1s - loss: 0.2001 - acc: 0.9248 - val_loss: 0.2907 - val_acc: 0.9046\n",
      "Epoch 21/50\n",
      " - 1s - loss: 0.1919 - acc: 0.9278 - val_loss: 0.2996 - val_acc: 0.9028\n",
      "Epoch 22/50\n",
      " - 1s - loss: 0.1904 - acc: 0.9278 - val_loss: 0.2895 - val_acc: 0.9058\n"
     ]
    }
   ],
   "source": [
    "history = network.fit(x_data, y_data, batch_size =256, epochs = 50,validation_data = (validation_data, validation_labels),callbacks=[early_stop], verbose=2,shuffle=True)"
   ]
  },
  {
   "cell_type": "markdown",
   "metadata": {},
   "source": [
    "#### Evaluate the model, and plot the validation and accuracy\n"
   ]
  },
  {
   "cell_type": "code",
   "execution_count": 6,
   "metadata": {},
   "outputs": [
    {
     "name": "stdout",
     "output_type": "stream",
     "text": [
      "10000/10000 [==============================] - 0s 25us/step\n",
      "[0.3230239651799202, 0.8942]\n"
     ]
    }
   ],
   "source": [
    "#evaluate the test data\n",
    "results = network.evaluate(fashion_test_data, fashion_test_labels)\n",
    "print(results)"
   ]
  },
  {
   "cell_type": "code",
   "execution_count": 7,
   "metadata": {},
   "outputs": [],
   "source": [
    "history_dict = history.history\n",
    "acc = history_dict['acc']\n",
    "val_acc = history_dict['val_acc']\n",
    "loss = history_dict['loss']\n",
    "val_loss = history_dict['val_loss']\n",
    "epochs = range(1, len(acc) + 1)"
   ]
  },
  {
   "cell_type": "code",
   "execution_count": 8,
   "metadata": {},
   "outputs": [
    {
     "data": {
      "image/png": "[encoded data removed]",
      "text/plain": [
       "<Figure size 432x288 with 1 Axes>"
      ]
     },
     "metadata": {
      "needs_background": "light"
     },
     "output_type": "display_data"
    }
   ],
   "source": [
    "# Plot of the validation and training loss\n",
    "\n",
    "plt.plot(epochs, loss, 'r', label='Training loss')#red line\n",
    "plt.plot(epochs, val_loss, 'b', label='Validation loss')#blue line\n",
    "plt.title('Training and validation loss')\n",
    "plt.xlabel('Epochs')\n",
    "plt.ylabel('Loss')\n",
    "plt.legend()\n",
    "\n",
    "plt.show()"
   ]
  },
  {
   "cell_type": "code",
   "execution_count": 9,
   "metadata": {},
   "outputs": [
    {
     "data": {
      "image/png": "[encoded data removed]",
      "text/plain": [
       "<Figure size 432x288 with 1 Axes>"
      ]
     },
     "metadata": {
      "needs_background": "light"
     },
     "output_type": "display_data"
    }
   ],
   "source": [
    "# Plot of the validation and train accuracy\n",
    "\n",
    "plt.clf()   # clear figure\n",
    "\n",
    "plt.plot(epochs, acc, 'r', label='Training acc')#red line\n",
    "plt.plot(epochs, val_acc, 'b', label='Validation acc')#blue line\n",
    "plt.title('Training and validation accuracy')\n",
    "plt.xlabel('Epochs')\n",
    "plt.ylabel('Accuracy')\n",
    "plt.legend()\n",
    "\n",
    "plt.show()"
   ]
  },
  {
   "cell_type": "markdown",
   "metadata": {},
   "source": [
    "#### Followed model\n",
    "For this network, I tried first to do as much overfitting as possible to later add a dropout so that it could improve the predictions it has."
   ]
  },
  {
   "cell_type": "markdown",
   "metadata": {},
   "source": [
    "## Classifying newswires\n",
    "\n",
    "---\n",
    "\n",
    "Build a network to classify Reuters newswires into 46 different mutually-exclusive topics."
   ]
  },
  {
   "cell_type": "markdown",
   "metadata": {},
   "source": [
    "### Load and review the data"
   ]
  },
  {
   "cell_type": "code",
   "execution_count": 10,
   "metadata": {},
   "outputs": [
    {
     "name": "stdout",
     "output_type": "stream",
     "text": [
      "(8982,)\n",
      "(8982,)\n",
      "[1, 27595, 28842, 8, 43, 10, 447, 5, 25, 207, 270, 5, 3095, 111, 16, 369, 186, 90, 67, 7, 89, 5, 19, 102, 6, 19, 124, 15, 90, 67, 84, 22, 482, 26, 7, 48, 4, 49, 8, 864, 39, 209, 154, 6, 151, 6, 83, 11, 15, 22, 155, 11, 15, 7, 48, 9, 4579, 1005, 504, 6, 258, 6, 272, 11, 15, 22, 134, 44, 11, 15, 16, 8, 197, 1245, 90, 67, 52, 29, 209, 30, 32, 132, 6, 109, 15, 17, 12]\n",
      "3\n",
      "{0, 1, 2, 3, 4, 5, 6, 7, 8, 9, 10, 11, 12, 13, 14, 15, 16, 17, 18, 19, 20, 21, 22, 23, 24, 25, 26, 27, 28, 29, 30, 31, 32, 33, 34, 35, 36, 37, 38, 39, 40, 41, 42, 43, 44, 45}\n"
     ]
    }
   ],
   "source": [
    "(reuters_train_data, reuters_train_labels),(reuters_test_data, reuters_test_labels) = reuters.load_data()\n",
    "\n",
    "print(reuters_train_data.shape)\n",
    "print(reuters_train_labels.shape)\n",
    "print(reuters_train_data[0])\n",
    "print(reuters_train_labels[0])\n",
    "\n",
    "print(set(reuters_train_labels))"
   ]
  },
  {
   "cell_type": "markdown",
   "metadata": {},
   "source": [
    "Load the word index to decode the train data."
   ]
  },
  {
   "cell_type": "code",
   "execution_count": 11,
   "metadata": {},
   "outputs": [
    {
     "name": "stdout",
     "output_type": "stream",
     "text": [
      "<START> mcgrath rentcorp said as a result of its december acquisition of space co it expects earnings per share in 1987 of 1 15 to 1 30 dlrs per share up from 70 cts in 1986 the company said pretax net should rise to nine to 10 mln dlrs from six mln dlrs in 1986 and rental operation revenues to 19 to 22 mln dlrs from 12 5 mln dlrs it said cash flow per share this year should be 2 50 to three dlrs reuter 3\n"
     ]
    }
   ],
   "source": [
    "word_index = reuters.get_word_index()\n",
    "\n",
    "reverse_index = dict([(value+3, key) for (key, value) in word_index.items()])\n",
    "\n",
    "reverse_index[0] = \"<PAD>\"\n",
    "reverse_index[1] = \"<START>\"\n",
    "reverse_index[2] = \"<UNKNOWN>\"  # unknown\n",
    "reverse_index[3] = \"<UNUSED>\"\n",
    "\n",
    "decoded_review = ' '.join([reverse_index.get(i,'?') for i in reuters_train_data[0]])\n",
    "\n",
    "print(decoded_review)"
   ]
  },
  {
   "cell_type": "markdown",
   "metadata": {},
   "source": [
    "#### TO DO: Preprocess the data\n",
    "\n",
    "1. Normalize the input data set\n",
    "2. Perform one hot encoding\n",
    "3. Create a train, test, and validation set"
   ]
  },
  {
   "cell_type": "code",
   "execution_count": 12,
   "metadata": {},
   "outputs": [
    {
     "name": "stdout",
     "output_type": "stream",
     "text": [
      "(8982, 8982)\n",
      "(8982, 46)\n",
      "(7192, 8982)\n"
     ]
    }
   ],
   "source": [
    "tokenizer = Tokenizer(8982)\n",
    "reuters_train_data_token = tokenizer.sequences_to_matrix(reuters_train_data, mode = \"binary\")\n",
    "reuters_test_data_token = tokenizer.sequences_to_matrix(reuters_test_data, mode = \"binary\")\n",
    "\n",
    "print(reuters_train_data_token.shape)\n",
    "\n",
    "#one hot encoding\n",
    "one_hot_train_labels = to_categorical(reuters_train_labels)\n",
    "one_hot_test_labels = to_categorical(reuters_test_labels)\n",
    "\n",
    "print(one_hot_train_labels.shape)\n",
    "\n",
    "#validation set\n",
    "validation_data = reuters_train_data_token[:1790] #toma los primeros 5000 para validation\n",
    "validation_labels = one_hot_train_labels[:1790]\n",
    "\n",
    "#toma a partir del 5000 para los training\n",
    "x_data = reuters_train_data_token[1790:]\n",
    "y_data = one_hot_train_labels[1790:]\n",
    "\n",
    "print(x_data.shape)"
   ]
  },
  {
   "cell_type": "markdown",
   "metadata": {},
   "source": [
    "#### TO DO: Define and train a network, then plot the accuracy of the training, validation, and testing\n",
    "\n",
    "1. Use a validation set\n",
    "2. Propose and train a network\n",
    "3. Print the history of the training\n",
    "4. Evaluate with a test set"
   ]
  },
  {
   "cell_type": "code",
   "execution_count": 13,
   "metadata": {},
   "outputs": [
    {
     "name": "stdout",
     "output_type": "stream",
     "text": [
      "_________________________________________________________________\n",
      "Layer (type)                 Output Shape              Param #   \n",
      "=================================================================\n",
      "dense_4 (Dense)              (None, 8)                 71864     \n",
      "_________________________________________________________________\n",
      "dropout_2 (Dropout)          (None, 8)                 0         \n",
      "_________________________________________________________________\n",
      "dense_5 (Dense)              (None, 46)                414       \n",
      "=================================================================\n",
      "Total params: 72,278\n",
      "Trainable params: 72,278\n",
      "Non-trainable params: 0\n",
      "_________________________________________________________________\n"
     ]
    }
   ],
   "source": [
    "network = models.Sequential()\n",
    "\n",
    "network.add(layers.Dense(8, activation='relu', input_dim = 8982)) #se puede cambiar la función de activación\n",
    "network.add(layers.Dropout(0.3))\n",
    "#network.add(layers.Dense(20, activation='relu'))\n",
    "#network.add(layers.Dropout(0.4))\n",
    "#network.add(layers.Dense(512, activation='relu'))\n",
    "#network.add(layers.Dropout(0.7))\n",
    "#,kernel_regularizer=regularizers.l2(0.001)\n",
    "network.add(layers.Dense(46, activation=\"softmax\"))\n",
    "\n",
    "\n",
    "network.summary()\n",
    "\n",
    "early_stop = callbacks.EarlyStopping(monitor=\"val_loss\", patience = 3)\n",
    "network.compile(optimizer='adam', loss='categorical_crossentropy', metrics=['accuracy'])\n"
   ]
  },
  {
   "cell_type": "code",
   "execution_count": 14,
   "metadata": {
    "scrolled": true
   },
   "outputs": [
    {
     "name": "stdout",
     "output_type": "stream",
     "text": [
      "Train on 5753 samples, validate on 1439 samples\n",
      "Epoch 1/1000\n",
      " - 1s - loss: 2.7846 - acc: 0.4419 - val_loss: 1.8839 - val_acc: 0.5678\n",
      "Epoch 2/1000\n",
      " - 0s - loss: 1.8471 - acc: 0.5583 - val_loss: 1.5775 - val_acc: 0.6477\n",
      "Epoch 3/1000\n",
      " - 0s - loss: 1.6308 - acc: 0.5860 - val_loss: 1.4362 - val_acc: 0.6769\n",
      "Epoch 4/1000\n",
      " - 0s - loss: 1.4360 - acc: 0.6263 - val_loss: 1.3478 - val_acc: 0.6963\n",
      "Epoch 5/1000\n",
      " - 0s - loss: 1.3293 - acc: 0.6384 - val_loss: 1.2844 - val_acc: 0.7109\n",
      "Epoch 6/1000\n",
      " - 0s - loss: 1.2652 - acc: 0.6529 - val_loss: 1.2435 - val_acc: 0.7234\n",
      "Epoch 7/1000\n",
      " - 0s - loss: 1.1901 - acc: 0.6732 - val_loss: 1.2035 - val_acc: 0.7338\n",
      "Epoch 8/1000\n",
      " - 0s - loss: 1.1324 - acc: 0.6802 - val_loss: 1.1766 - val_acc: 0.7394\n",
      "Epoch 9/1000\n",
      " - 0s - loss: 1.0707 - acc: 0.7003 - val_loss: 1.1639 - val_acc: 0.7366\n",
      "Epoch 10/1000\n",
      " - 0s - loss: 1.0558 - acc: 0.6981 - val_loss: 1.1441 - val_acc: 0.7408\n",
      "Epoch 11/1000\n",
      " - 1s - loss: 1.0021 - acc: 0.7082 - val_loss: 1.1375 - val_acc: 0.7464\n",
      "Epoch 12/1000\n",
      " - 1s - loss: 0.9632 - acc: 0.7196 - val_loss: 1.1306 - val_acc: 0.7526\n",
      "Epoch 13/1000\n",
      " - 1s - loss: 0.9271 - acc: 0.7254 - val_loss: 1.1260 - val_acc: 0.7519\n",
      "Epoch 14/1000\n",
      " - 1s - loss: 0.9217 - acc: 0.7323 - val_loss: 1.1331 - val_acc: 0.7505\n",
      "Epoch 15/1000\n",
      " - 1s - loss: 0.8931 - acc: 0.7337 - val_loss: 1.1434 - val_acc: 0.7470\n",
      "Epoch 16/1000\n",
      " - 1s - loss: 0.8692 - acc: 0.7396 - val_loss: 1.1371 - val_acc: 0.7526\n"
     ]
    }
   ],
   "source": [
    "history = network.fit(x_data, y_data, batch_size =32, epochs = 1000,validation_split=0.2,callbacks=[early_stop], verbose=2,shuffle=True)"
   ]
  },
  {
   "cell_type": "markdown",
   "metadata": {},
   "source": [
    "#### Evaluate the model, and plot the validation and accuracy"
   ]
  },
  {
   "cell_type": "code",
   "execution_count": 15,
   "metadata": {},
   "outputs": [
    {
     "name": "stdout",
     "output_type": "stream",
     "text": [
      "2246/2246 [==============================] - 0s 52us/step\n",
      "[1.1770589682849941, 0.7355298308103295]\n"
     ]
    }
   ],
   "source": [
    "#evaluate the test data\n",
    "results = network.evaluate(reuters_test_data_token, one_hot_test_labels)\n",
    "print(results)"
   ]
  },
  {
   "cell_type": "code",
   "execution_count": 16,
   "metadata": {},
   "outputs": [],
   "source": [
    "history_dict = history.history\n",
    "acc = history_dict['acc']\n",
    "val_acc = history_dict['val_acc']\n",
    "loss = history_dict['loss']\n",
    "val_loss = history_dict['val_loss']\n",
    "epochs = range(1, len(acc) + 1)"
   ]
  },
  {
   "cell_type": "code",
   "execution_count": 17,
   "metadata": {},
   "outputs": [
    {
     "data": {
      "image/png": "[encoded data removed]",
      "text/plain": [
       "<Figure size 432x288 with 1 Axes>"
      ]
     },
     "metadata": {
      "needs_background": "light"
     },
     "output_type": "display_data"
    }
   ],
   "source": [
    "# Plot of the validation and training loss\n",
    "\n",
    "plt.plot(epochs, loss, 'r', label='Training loss')#red line\n",
    "plt.plot(epochs, val_loss, 'b', label='Validation loss')#blue line\n",
    "plt.title('Training and validation loss')\n",
    "plt.xlabel('Epochs')\n",
    "plt.ylabel('Loss')\n",
    "plt.legend()\n",
    "\n",
    "plt.show()"
   ]
  },
  {
   "cell_type": "code",
   "execution_count": 18,
   "metadata": {},
   "outputs": [
    {
     "data": {
      "image/png": "[encoded data removed]",
      "text/plain": [
       "<Figure size 432x288 with 1 Axes>"
      ]
     },
     "metadata": {
      "needs_background": "light"
     },
     "output_type": "display_data"
    }
   ],
   "source": [
    "# Plot of the validation and train accuracy\n",
    "\n",
    "plt.clf()   # clear figure\n",
    "\n",
    "plt.plot(epochs, acc, 'r', label='Training acc')#red line\n",
    "plt.plot(epochs, val_acc, 'b', label='Validation acc')#blue line\n",
    "plt.title('Training and validation accuracy')\n",
    "plt.xlabel('Epochs')\n",
    "plt.ylabel('Accuracy')\n",
    "plt.legend()\n",
    "\n",
    "plt.show()"
   ]
  },
  {
   "cell_type": "markdown",
   "metadata": {},
   "source": [
    "#### Followed model\n",
    "\n",
    "For this network, I tried first to do as much overfitting as possible, subsequently reduce the number of features that the network could learn, to do this the number of neurons was reduced to the minimum point in which it continued to generate overfitting, this was until It got to 8 neurons, also a dropout of 0.3 was added to \n",
    "to reduce as much as possible the overfitting."
   ]
  },
  {
   "cell_type": "markdown",
   "metadata": {},
   "source": [
    "## Predicting Student Admissions\n",
    "\n",
    "---\n",
    "\n",
    "Predict student admissions based on three pieces of data:\n",
    "\n",
    "- GRE Scores\n",
    "- GPA Scores\n",
    "- Class rank"
   ]
  },
  {
   "cell_type": "markdown",
   "metadata": {},
   "source": [
    "### Load and visualize the data"
   ]
  },
  {
   "cell_type": "code",
   "execution_count": 19,
   "metadata": {},
   "outputs": [
    {
     "name": "stdout",
     "output_type": "stream",
     "text": [
      "     admit  gre   gpa  rank\n",
      "0        0  380  3.61     3\n",
      "1        1  660  3.67     3\n",
      "2        1  800  4.00     1\n",
      "3        1  640  3.19     4\n",
      "4        0  520  2.93     4\n",
      "5        1  760  3.00     2\n",
      "6        1  560  2.98     1\n",
      "7        0  400  3.08     2\n",
      "8        1  540  3.39     3\n",
      "9        0  700  3.92     2\n",
      "10       0  800  4.00     4\n",
      "11       0  440  3.22     1\n",
      "12       1  760  4.00     1\n",
      "13       0  700  3.08     2\n",
      "14       1  700  4.00     1\n",
      "15       0  480  3.44     3\n",
      "16       0  780  3.87     4\n",
      "17       0  360  2.56     3\n",
      "18       0  800  3.75     2\n",
      "19       1  540  3.81     1\n",
      "20       0  500  3.17     3\n",
      "21       1  660  3.63     2\n",
      "22       0  600  2.82     4\n",
      "23       0  680  3.19     4\n",
      "24       1  760  3.35     2\n",
      "25       1  800  3.66     1\n",
      "26       1  620  3.61     1\n",
      "27       1  520  3.74     4\n",
      "28       1  780  3.22     2\n",
      "29       0  520  3.29     1\n",
      "..     ...  ...   ...   ...\n",
      "367      1  540  3.77     2\n",
      "368      1  680  3.76     3\n",
      "369      1  680  2.42     1\n",
      "370      1  620  3.37     1\n",
      "371      0  560  3.78     2\n",
      "372      0  560  3.49     4\n",
      "373      0  620  3.63     2\n",
      "374      1  800  4.00     2\n",
      "375      0  640  3.12     3\n",
      "376      0  540  2.70     2\n",
      "377      0  700  3.65     2\n",
      "378      1  540  3.49     2\n",
      "379      0  540  3.51     2\n",
      "380      0  660  4.00     1\n",
      "381      1  480  2.62     2\n",
      "382      0  420  3.02     1\n",
      "383      1  740  3.86     2\n",
      "384      0  580  3.36     2\n",
      "385      0  640  3.17     2\n",
      "386      0  640  3.51     2\n",
      "387      1  800  3.05     2\n",
      "388      1  660  3.88     2\n",
      "389      1  600  3.38     3\n",
      "390      1  620  3.75     2\n",
      "391      1  460  3.99     3\n",
      "392      0  620  4.00     2\n",
      "393      0  560  3.04     3\n",
      "394      0  460  2.63     2\n",
      "395      0  700  3.65     2\n",
      "396      0  600  3.89     3\n",
      "\n",
      "[397 rows x 4 columns]\n"
     ]
    }
   ],
   "source": [
    "student_data = pd.read_csv(\"student_data.csv\")\n",
    "print(student_data)"
   ]
  },
  {
   "cell_type": "markdown",
   "metadata": {},
   "source": [
    "Plot of the GRE and the GPA from the data."
   ]
  },
  {
   "cell_type": "code",
   "execution_count": 20,
   "metadata": {},
   "outputs": [
    {
     "data": {
      "image/png": "[encoded data removed]",
      "text/plain": [
       "<Figure size 432x288 with 1 Axes>"
      ]
     },
     "metadata": {
      "needs_background": "light"
     },
     "output_type": "display_data"
    }
   ],
   "source": [
    "X = np.array(student_data[[\"gre\",\"gpa\"]])\n",
    "y = np.array(student_data[\"admit\"])\n",
    "admitted = X[np.argwhere(y==1)]\n",
    "rejected = X[np.argwhere(y==0)]\n",
    "plt.scatter([s[0][0] for s in rejected], [s[0][1] for s in rejected], s = 25, color = 'red', edgecolor = 'k')\n",
    "plt.scatter([s[0][0] for s in admitted], [s[0][1] for s in admitted], s = 25, color = 'cyan', edgecolor = 'k')\n",
    "plt.xlabel('Test (GRE)')\n",
    "plt.ylabel('Grades (GPA)')\n",
    "\n",
    "plt.show()"
   ]
  },
  {
   "cell_type": "markdown",
   "metadata": {},
   "source": [
    "Plot of the data by class rank."
   ]
  },
  {
   "cell_type": "code",
   "execution_count": 21,
   "metadata": {},
   "outputs": [
    {
     "data": {
      "image/png": "[encoded data removed]",
      "text/plain": [
       "<Figure size 1440x720 with 4 Axes>"
      ]
     },
     "metadata": {
      "needs_background": "light"
     },
     "output_type": "display_data"
    }
   ],
   "source": [
    "f, plots = plt.subplots(2, 2, figsize=(20,10))\n",
    "plots = [plot for sublist in plots for plot in sublist]\n",
    "\n",
    "for idx, plot in enumerate(plots):\n",
    "    data_rank = student_data[student_data[\"rank\"]==idx+1]\n",
    "    plot.set_title(\"Rank \" + str(idx+1))\n",
    "    X = np.array(data_rank[[\"gre\",\"gpa\"]])\n",
    "    y = np.array(data_rank[\"admit\"])\n",
    "    admitted = X[np.argwhere(y==1)]\n",
    "    rejected = X[np.argwhere(y==0)]\n",
    "    plot.scatter([s[0][0] for s in rejected], [s[0][1] for s in rejected], s = 25, color = 'red', edgecolor = 'k')\n",
    "    plot.scatter([s[0][0] for s in admitted], [s[0][1] for s in admitted], s = 25, color = 'cyan', edgecolor = 'k')\n",
    "    plot.set_xlabel('Test (GRE)')\n",
    "    plot.set_ylabel('Grades (GPA)')\n",
    "    "
   ]
  },
  {
   "cell_type": "markdown",
   "metadata": {},
   "source": [
    "#### TO DO: Preprocess the data\n",
    "\n",
    "1. Normalize the input data set\n",
    "2. Perform one hot encoding\n",
    "3. Create a train, test, and validation set"
   ]
  },
  {
   "cell_type": "code",
   "execution_count": 29,
   "metadata": {},
   "outputs": [
    {
     "name": "stdout",
     "output_type": "stream",
     "text": [
      "[[-0.58715755 -1.74398506  0.          1.          0.          0.        ]\n",
      " [-0.93326229 -1.90199232  0.          1.          0.          0.        ]\n",
      " [ 1.1433661   0.28377607  0.          0.          1.          0.        ]\n",
      " ...\n",
      " [ 0.27810425 -0.45359156  0.          1.          0.          0.        ]\n",
      " [ 0.97031373  1.38982785  0.          1.          0.          0.        ]\n",
      " [ 1.83557558  1.60050416  1.          0.          0.          0.        ]]\n"
     ]
    }
   ],
   "source": [
    "#problema con alumnos que no tienen gre o gpa \n",
    "#Normalizando la información\n",
    "#Información continua\n",
    "#-media/devstand\n",
    "#datos continuos\n",
    "#para predecir debo restarle 1\n",
    "\n",
    "data = np.array(student_data, dtype = np.float32)\n",
    "np.random.shuffle(data)\n",
    "\n",
    "media_gre = np.average(data[:,1])\n",
    "std_gre = np.std(data[:,1])\n",
    "\n",
    "media_gpa = np.average(data[:,2])\n",
    "std_gpa = np.std(data[:,2])\n",
    "\n",
    "norm_gre = (data[:,1]-media_gre)/std_gre\n",
    "norm_gpa = (data[:,2]-media_gpa)/std_gpa\n",
    "dat = to_categorical(data[:,3]-1) \n",
    "\n",
    "\n",
    "\n",
    "inputs = np.zeros((len(data),6))\n",
    "inputs[:,0] = norm_gre\n",
    "inputs[:,1] = norm_gpa\n",
    "inputs[:,2:6] = dat\n",
    "print(inputs)\n",
    "\n",
    "train_data = inputs[130:]\n",
    "train_labels = to_categorical(data[130:,0])\n",
    "\n",
    "test_data = inputs[80:130]\n",
    "test_labels = to_categorical(data[80:130,0])\n",
    "\n",
    "validation_data = inputs[:80]\n",
    "validation_labels = to_categorical(data[:80,0])"
   ]
  },
  {
   "cell_type": "markdown",
   "metadata": {},
   "source": [
    "#### TO DO: Define and train a network, then plot the accuracy of the training, validation, and testing\n",
    "\n",
    "1. Use a validation set\n",
    "2. Propose and train a network\n",
    "3. Print the history of the training\n",
    "4. Evaluate with a test set"
   ]
  },
  {
   "cell_type": "code",
   "execution_count": 30,
   "metadata": {},
   "outputs": [
    {
     "name": "stdout",
     "output_type": "stream",
     "text": [
      "_________________________________________________________________\n",
      "Layer (type)                 Output Shape              Param #   \n",
      "=================================================================\n",
      "dense_9 (Dense)              (None, 128)               896       \n",
      "_________________________________________________________________\n",
      "dropout_5 (Dropout)          (None, 128)               0         \n",
      "_________________________________________________________________\n",
      "dense_10 (Dense)             (None, 32)                4128      \n",
      "_________________________________________________________________\n",
      "dropout_6 (Dropout)          (None, 32)                0         \n",
      "_________________________________________________________________\n",
      "dense_11 (Dense)             (None, 2)                 66        \n",
      "=================================================================\n",
      "Total params: 5,090\n",
      "Trainable params: 5,090\n",
      "Non-trainable params: 0\n",
      "_________________________________________________________________\n"
     ]
    }
   ],
   "source": [
    "import random\n",
    "network = models.Sequential()\n",
    "\n",
    "network.add(layers.Dense(128, activation='relu', input_dim = 6))\n",
    "network.add(layers.Dropout(0.4))\n",
    "network.add(layers.Dense(32, activation='relu'))\n",
    "network.add(layers.Dropout(0.3))\n",
    "network.add(layers.Dense(2, activation=\"softmax\"))\n",
    "\n",
    "#,kernel_regularizer=regularizers.l2(0.01)\n",
    "network.summary()\n",
    "\n",
    "adam = optimizers.Adam(lr=0.001, beta_1=0.9, beta_2=0.999, epsilon=None, decay=0.0, amsgrad=False)\n",
    "early_stop = callbacks.EarlyStopping(monitor=\"val_loss\", patience = 25)\n",
    "network.compile(optimizer=adam, loss='binary_crossentropy', metrics=['accuracy'])"
   ]
  },
  {
   "cell_type": "code",
   "execution_count": 31,
   "metadata": {},
   "outputs": [
    {
     "name": "stdout",
     "output_type": "stream",
     "text": [
      "Train on 267 samples, validate on 80 samples\n",
      "Epoch 1/1000\n",
      " - 0s - loss: 0.6921 - acc: 0.5094 - val_loss: 0.6692 - val_acc: 0.6375\n",
      "Epoch 2/1000\n",
      " - 0s - loss: 0.6733 - acc: 0.6142 - val_loss: 0.6441 - val_acc: 0.6875\n",
      "Epoch 3/1000\n",
      " - 0s - loss: 0.6419 - acc: 0.6330 - val_loss: 0.6264 - val_acc: 0.6875\n",
      "Epoch 4/1000\n",
      " - 0s - loss: 0.6365 - acc: 0.6330 - val_loss: 0.6129 - val_acc: 0.6875\n",
      "Epoch 5/1000\n",
      " - 0s - loss: 0.6195 - acc: 0.6592 - val_loss: 0.6039 - val_acc: 0.6875\n",
      "Epoch 6/1000\n",
      " - 0s - loss: 0.6245 - acc: 0.6742 - val_loss: 0.5981 - val_acc: 0.6875\n",
      "Epoch 7/1000\n",
      " - 0s - loss: 0.6124 - acc: 0.6929 - val_loss: 0.5935 - val_acc: 0.6875\n",
      "Epoch 8/1000\n",
      " - 0s - loss: 0.6041 - acc: 0.6629 - val_loss: 0.5903 - val_acc: 0.6875\n",
      "Epoch 9/1000\n",
      " - 0s - loss: 0.6072 - acc: 0.6704 - val_loss: 0.5881 - val_acc: 0.6875\n",
      "Epoch 10/1000\n",
      " - 0s - loss: 0.6173 - acc: 0.6929 - val_loss: 0.5860 - val_acc: 0.6875\n",
      "Epoch 11/1000\n",
      " - 0s - loss: 0.6115 - acc: 0.6891 - val_loss: 0.5855 - val_acc: 0.7000\n",
      "Epoch 12/1000\n",
      " - 0s - loss: 0.6046 - acc: 0.6779 - val_loss: 0.5840 - val_acc: 0.7000\n",
      "Epoch 13/1000\n",
      " - 0s - loss: 0.6043 - acc: 0.6854 - val_loss: 0.5830 - val_acc: 0.7250\n",
      "Epoch 14/1000\n",
      " - 0s - loss: 0.6042 - acc: 0.6891 - val_loss: 0.5819 - val_acc: 0.7250\n",
      "Epoch 15/1000\n",
      " - 0s - loss: 0.5997 - acc: 0.6891 - val_loss: 0.5812 - val_acc: 0.7250\n",
      "Epoch 16/1000\n",
      " - 0s - loss: 0.5915 - acc: 0.7004 - val_loss: 0.5810 - val_acc: 0.7250\n",
      "Epoch 17/1000\n",
      " - 0s - loss: 0.6026 - acc: 0.6854 - val_loss: 0.5816 - val_acc: 0.7250\n",
      "Epoch 18/1000\n",
      " - 0s - loss: 0.6004 - acc: 0.6891 - val_loss: 0.5828 - val_acc: 0.7250\n",
      "Epoch 19/1000\n",
      " - 0s - loss: 0.6036 - acc: 0.7004 - val_loss: 0.5828 - val_acc: 0.7250\n",
      "Epoch 20/1000\n",
      " - 0s - loss: 0.5951 - acc: 0.6816 - val_loss: 0.5829 - val_acc: 0.7250\n",
      "Epoch 21/1000\n",
      " - 0s - loss: 0.6039 - acc: 0.7004 - val_loss: 0.5830 - val_acc: 0.7250\n",
      "Epoch 22/1000\n",
      " - 0s - loss: 0.6028 - acc: 0.7004 - val_loss: 0.5834 - val_acc: 0.7250\n",
      "Epoch 23/1000\n",
      " - 0s - loss: 0.6147 - acc: 0.6929 - val_loss: 0.5844 - val_acc: 0.7250\n",
      "Epoch 24/1000\n",
      " - 0s - loss: 0.5980 - acc: 0.7154 - val_loss: 0.5849 - val_acc: 0.7250\n",
      "Epoch 25/1000\n",
      " - 0s - loss: 0.6146 - acc: 0.6854 - val_loss: 0.5850 - val_acc: 0.7375\n",
      "Epoch 26/1000\n",
      " - 0s - loss: 0.5959 - acc: 0.6891 - val_loss: 0.5835 - val_acc: 0.7250\n",
      "Epoch 27/1000\n",
      " - 0s - loss: 0.5902 - acc: 0.6816 - val_loss: 0.5817 - val_acc: 0.7250\n",
      "Epoch 28/1000\n",
      " - 0s - loss: 0.5896 - acc: 0.7004 - val_loss: 0.5797 - val_acc: 0.7250\n",
      "Epoch 29/1000\n",
      " - 0s - loss: 0.6084 - acc: 0.7116 - val_loss: 0.5791 - val_acc: 0.7250\n",
      "Epoch 30/1000\n",
      " - 0s - loss: 0.6026 - acc: 0.6966 - val_loss: 0.5790 - val_acc: 0.7250\n",
      "Epoch 31/1000\n",
      " - 0s - loss: 0.5923 - acc: 0.7154 - val_loss: 0.5788 - val_acc: 0.7375\n",
      "Epoch 32/1000\n",
      " - 0s - loss: 0.5964 - acc: 0.7041 - val_loss: 0.5792 - val_acc: 0.7375\n",
      "Epoch 33/1000\n",
      " - 0s - loss: 0.5926 - acc: 0.7004 - val_loss: 0.5784 - val_acc: 0.7375\n",
      "Epoch 34/1000\n",
      " - 0s - loss: 0.5853 - acc: 0.7004 - val_loss: 0.5780 - val_acc: 0.7375\n",
      "Epoch 35/1000\n",
      " - 0s - loss: 0.5891 - acc: 0.7004 - val_loss: 0.5787 - val_acc: 0.7375\n",
      "Epoch 36/1000\n",
      " - 0s - loss: 0.5854 - acc: 0.7228 - val_loss: 0.5800 - val_acc: 0.7375\n",
      "Epoch 37/1000\n",
      " - 0s - loss: 0.6005 - acc: 0.6966 - val_loss: 0.5809 - val_acc: 0.7375\n",
      "Epoch 38/1000\n",
      " - 0s - loss: 0.5933 - acc: 0.7041 - val_loss: 0.5805 - val_acc: 0.7000\n",
      "Epoch 39/1000\n",
      " - 0s - loss: 0.5823 - acc: 0.6891 - val_loss: 0.5802 - val_acc: 0.7000\n",
      "Epoch 40/1000\n",
      " - 0s - loss: 0.5959 - acc: 0.6891 - val_loss: 0.5800 - val_acc: 0.7000\n",
      "Epoch 41/1000\n",
      " - 0s - loss: 0.5828 - acc: 0.7116 - val_loss: 0.5809 - val_acc: 0.6875\n",
      "Epoch 42/1000\n",
      " - 0s - loss: 0.6038 - acc: 0.7004 - val_loss: 0.5811 - val_acc: 0.6875\n",
      "Epoch 43/1000\n",
      " - 0s - loss: 0.5964 - acc: 0.7116 - val_loss: 0.5807 - val_acc: 0.6875\n",
      "Epoch 44/1000\n",
      " - 0s - loss: 0.5924 - acc: 0.6966 - val_loss: 0.5813 - val_acc: 0.6750\n",
      "Epoch 45/1000\n",
      " - 0s - loss: 0.6005 - acc: 0.6891 - val_loss: 0.5810 - val_acc: 0.6750\n",
      "Epoch 46/1000\n",
      " - 0s - loss: 0.5728 - acc: 0.7116 - val_loss: 0.5798 - val_acc: 0.6750\n",
      "Epoch 47/1000\n",
      " - 0s - loss: 0.5679 - acc: 0.7116 - val_loss: 0.5799 - val_acc: 0.6750\n",
      "Epoch 48/1000\n",
      " - 0s - loss: 0.5874 - acc: 0.7191 - val_loss: 0.5807 - val_acc: 0.6750\n",
      "Epoch 49/1000\n",
      " - 0s - loss: 0.5934 - acc: 0.6929 - val_loss: 0.5823 - val_acc: 0.6875\n",
      "Epoch 50/1000\n",
      " - 0s - loss: 0.5786 - acc: 0.7041 - val_loss: 0.5821 - val_acc: 0.6875\n",
      "Epoch 51/1000\n",
      " - 0s - loss: 0.5810 - acc: 0.7004 - val_loss: 0.5814 - val_acc: 0.7375\n",
      "Epoch 52/1000\n",
      " - 0s - loss: 0.5811 - acc: 0.7154 - val_loss: 0.5813 - val_acc: 0.7375\n",
      "Epoch 53/1000\n",
      " - 0s - loss: 0.5770 - acc: 0.7154 - val_loss: 0.5794 - val_acc: 0.7125\n",
      "Epoch 54/1000\n",
      " - 0s - loss: 0.5795 - acc: 0.7004 - val_loss: 0.5762 - val_acc: 0.7125\n",
      "Epoch 55/1000\n",
      " - 0s - loss: 0.5882 - acc: 0.7191 - val_loss: 0.5734 - val_acc: 0.7250\n",
      "Epoch 56/1000\n",
      " - 0s - loss: 0.5744 - acc: 0.7116 - val_loss: 0.5712 - val_acc: 0.7250\n",
      "Epoch 57/1000\n",
      " - 0s - loss: 0.5715 - acc: 0.7154 - val_loss: 0.5688 - val_acc: 0.7250\n",
      "Epoch 58/1000\n",
      " - 0s - loss: 0.6017 - acc: 0.7079 - val_loss: 0.5663 - val_acc: 0.7250\n",
      "Epoch 59/1000\n",
      " - 0s - loss: 0.5791 - acc: 0.7154 - val_loss: 0.5641 - val_acc: 0.7250\n",
      "Epoch 60/1000\n",
      " - 0s - loss: 0.5934 - acc: 0.7154 - val_loss: 0.5626 - val_acc: 0.7125\n",
      "Epoch 61/1000\n",
      " - 0s - loss: 0.5850 - acc: 0.7004 - val_loss: 0.5621 - val_acc: 0.7125\n",
      "Epoch 62/1000\n",
      " - 0s - loss: 0.5853 - acc: 0.7004 - val_loss: 0.5618 - val_acc: 0.7125\n",
      "Epoch 63/1000\n",
      " - 0s - loss: 0.5664 - acc: 0.7266 - val_loss: 0.5616 - val_acc: 0.7125\n",
      "Epoch 64/1000\n",
      " - 0s - loss: 0.5758 - acc: 0.7004 - val_loss: 0.5610 - val_acc: 0.7250\n",
      "Epoch 65/1000\n",
      " - 0s - loss: 0.5710 - acc: 0.7116 - val_loss: 0.5606 - val_acc: 0.7250\n",
      "Epoch 66/1000\n",
      " - 0s - loss: 0.5930 - acc: 0.7191 - val_loss: 0.5588 - val_acc: 0.7375\n",
      "Epoch 67/1000\n",
      " - 0s - loss: 0.5592 - acc: 0.7228 - val_loss: 0.5583 - val_acc: 0.7375\n",
      "Epoch 68/1000\n",
      " - 0s - loss: 0.5869 - acc: 0.7154 - val_loss: 0.5585 - val_acc: 0.7375\n",
      "Epoch 69/1000\n",
      " - 0s - loss: 0.5570 - acc: 0.7228 - val_loss: 0.5584 - val_acc: 0.7375\n",
      "Epoch 70/1000\n",
      " - 0s - loss: 0.5725 - acc: 0.7191 - val_loss: 0.5576 - val_acc: 0.7375\n",
      "Epoch 71/1000\n",
      " - 0s - loss: 0.5843 - acc: 0.7303 - val_loss: 0.5578 - val_acc: 0.7375\n",
      "Epoch 72/1000\n",
      " - 0s - loss: 0.5717 - acc: 0.7228 - val_loss: 0.5585 - val_acc: 0.7375\n",
      "Epoch 73/1000\n",
      " - 0s - loss: 0.5770 - acc: 0.7116 - val_loss: 0.5598 - val_acc: 0.7250\n",
      "Epoch 74/1000\n",
      " - 0s - loss: 0.5708 - acc: 0.7266 - val_loss: 0.5608 - val_acc: 0.7125\n",
      "Epoch 75/1000\n",
      " - 0s - loss: 0.5891 - acc: 0.7041 - val_loss: 0.5622 - val_acc: 0.7125\n",
      "Epoch 76/1000\n",
      " - 0s - loss: 0.5842 - acc: 0.7228 - val_loss: 0.5615 - val_acc: 0.7125\n",
      "Epoch 77/1000\n",
      " - 0s - loss: 0.5809 - acc: 0.7116 - val_loss: 0.5612 - val_acc: 0.7125\n",
      "Epoch 78/1000\n",
      " - 0s - loss: 0.5738 - acc: 0.7154 - val_loss: 0.5618 - val_acc: 0.6875\n",
      "Epoch 79/1000\n",
      " - 0s - loss: 0.5632 - acc: 0.7079 - val_loss: 0.5625 - val_acc: 0.6875\n",
      "Epoch 80/1000\n",
      " - 0s - loss: 0.5833 - acc: 0.7004 - val_loss: 0.5631 - val_acc: 0.7000\n",
      "Epoch 81/1000\n",
      " - 0s - loss: 0.5892 - acc: 0.7116 - val_loss: 0.5640 - val_acc: 0.7125\n",
      "Epoch 82/1000\n",
      " - 0s - loss: 0.5849 - acc: 0.7191 - val_loss: 0.5645 - val_acc: 0.7125\n",
      "Epoch 83/1000\n",
      " - 0s - loss: 0.5767 - acc: 0.7154 - val_loss: 0.5651 - val_acc: 0.7000\n",
      "Epoch 84/1000\n",
      " - 0s - loss: 0.5892 - acc: 0.7228 - val_loss: 0.5655 - val_acc: 0.7000\n",
      "Epoch 85/1000\n",
      " - 0s - loss: 0.5852 - acc: 0.7154 - val_loss: 0.5657 - val_acc: 0.7000\n",
      "Epoch 86/1000\n",
      " - 0s - loss: 0.5678 - acc: 0.7191 - val_loss: 0.5642 - val_acc: 0.7000\n",
      "Epoch 87/1000\n",
      " - 0s - loss: 0.5727 - acc: 0.7079 - val_loss: 0.5642 - val_acc: 0.7125\n",
      "Epoch 88/1000\n",
      " - 0s - loss: 0.5649 - acc: 0.7154 - val_loss: 0.5642 - val_acc: 0.7125\n",
      "Epoch 89/1000\n",
      " - 0s - loss: 0.5687 - acc: 0.7266 - val_loss: 0.5647 - val_acc: 0.6875\n",
      "Epoch 90/1000\n",
      " - 0s - loss: 0.5775 - acc: 0.7191 - val_loss: 0.5654 - val_acc: 0.6875\n",
      "Epoch 91/1000\n",
      " - 0s - loss: 0.5688 - acc: 0.7341 - val_loss: 0.5676 - val_acc: 0.6750\n",
      "Epoch 92/1000\n",
      " - 0s - loss: 0.5671 - acc: 0.7154 - val_loss: 0.5694 - val_acc: 0.6625\n",
      "Epoch 93/1000\n",
      " - 0s - loss: 0.5785 - acc: 0.7116 - val_loss: 0.5693 - val_acc: 0.6625\n",
      "Epoch 94/1000\n",
      " - 0s - loss: 0.5697 - acc: 0.7116 - val_loss: 0.5689 - val_acc: 0.6625\n",
      "Epoch 95/1000\n",
      " - 0s - loss: 0.5772 - acc: 0.7191 - val_loss: 0.5696 - val_acc: 0.6625\n"
     ]
    }
   ],
   "source": [
    "history = network.fit(train_data, train_labels, batch_size =64, epochs = 1000,validation_data = (validation_data, validation_labels),callbacks=[early_stop], verbose=2,shuffle=True)\n",
    "#,callbacks=[early_stop]"
   ]
  },
  {
   "cell_type": "markdown",
   "metadata": {},
   "source": [
    "#### Evaluate the model, and plot the validation and accuracy"
   ]
  },
  {
   "cell_type": "code",
   "execution_count": 32,
   "metadata": {},
   "outputs": [
    {
     "name": "stdout",
     "output_type": "stream",
     "text": [
      "50/50 [==============================] - 0s 42us/step\n",
      "[0.5925422573089599, 0.7000000071525574]\n"
     ]
    }
   ],
   "source": [
    "results = network.evaluate(test_data, test_labels)\n",
    "print(results)"
   ]
  },
  {
   "cell_type": "code",
   "execution_count": 26,
   "metadata": {},
   "outputs": [],
   "source": [
    "history_dict = history.history\n",
    "acc = history_dict['acc']\n",
    "val_acc = history_dict['val_acc']\n",
    "loss = history_dict['loss']\n",
    "val_loss = history_dict['val_loss']\n",
    "epochs = range(1, len(acc) + 1)"
   ]
  },
  {
   "cell_type": "code",
   "execution_count": 33,
   "metadata": {},
   "outputs": [
    {
     "data": {
      "image/png": "[encoded data removed]",
      "text/plain": [
       "<Figure size 432x288 with 1 Axes>"
      ]
     },
     "metadata": {
      "needs_background": "light"
     },
     "output_type": "display_data"
    }
   ],
   "source": [
    "# Plot of the validation and training loss\n",
    "\n",
    "plt.plot(epochs, loss, 'r', label='Training loss')#red line\n",
    "plt.plot(epochs, val_loss, 'b', label='Validation loss')#blue line\n",
    "plt.title('Training and validation loss')\n",
    "plt.xlabel('Epochs')\n",
    "plt.ylabel('Loss')\n",
    "plt.legend()\n",
    "\n",
    "plt.show()"
   ]
  },
  {
   "cell_type": "code",
   "execution_count": 34,
   "metadata": {},
   "outputs": [
    {
     "data": {
      "image/png": "[encoded data removed]",
      "text/plain": [
       "<Figure size 432x288 with 1 Axes>"
      ]
     },
     "metadata": {
      "needs_background": "light"
     },
     "output_type": "display_data"
    }
   ],
   "source": [
    "# Plot of the validation and train accuracy\n",
    "\n",
    "plt.clf()   # clear figure\n",
    "\n",
    "plt.plot(epochs, acc, 'r', label='Training acc')#red line\n",
    "plt.plot(epochs, val_acc, 'b', label='Validation acc')#blue line\n",
    "plt.title('Training and validation accuracy')\n",
    "plt.xlabel('Epochs')\n",
    "plt.ylabel('Accuracy')\n",
    "plt.legend()\n",
    "\n",
    "plt.show()"
   ]
  },
  {
   "cell_type": "markdown",
   "metadata": {},
   "source": [
    "#### Followed model\n",
    "\n",
    "For this network, I tried first to do as much overfitting as possible, in order to reduce the overfitting in this case the graphics were very useful, since in them I was able to see the discrepancy between the validation and the train accuaracy/loss, so to get the best result of the network I increased the number of neurons and the dropout the have."
   ]
  },
  {
   "cell_type": "markdown",
   "metadata": {},
   "source": [
    "#### General conclusion\n",
    "For the data set of the problems 2 and 3 is not possible to achieve the 85% that is required for the activity, since the data set is to small for the neural network to learn."
   ]
  }
 ],
 "metadata": {
  "kernelspec": {
   "display_name": "Python 3",
   "language": "python",
   "name": "python3"
  },
  "language_info": {
   "codemirror_mode": {
    "name": "ipython",
    "version": 3
   },
   "file_extension": ".py",
   "mimetype": "text/x-python",
   "name": "python",
   "nbconvert_exporter": "python",
   "pygments_lexer": "ipython3",
   "version": "3.6.8"
  }
 },
 "nbformat": 4,
 "nbformat_minor": 2
}
