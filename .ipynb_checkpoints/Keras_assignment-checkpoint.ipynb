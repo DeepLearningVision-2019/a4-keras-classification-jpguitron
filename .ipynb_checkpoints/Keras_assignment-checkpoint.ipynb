{
 "cells": [
  {
   "cell_type": "markdown",
   "metadata": {},
   "source": [
    "# Classify different data sets"
   ]
  },
  {
   "cell_type": "markdown",
   "metadata": {},
   "source": [
    "### Basic includes"
   ]
  },
  {
   "cell_type": "code",
   "execution_count": 1,
   "metadata": {},
   "outputs": [
    {
     "name": "stderr",
     "output_type": "stream",
     "text": [
      "Using TensorFlow backend.\n"
     ]
    }
   ],
   "source": [
    "# Using pandas to load the csv file\n",
    "import pandas as pd\n",
    "\n",
    "import numpy as np\n",
    "import matplotlib.pyplot as plt\n",
    "\n",
    "from keras import models \n",
    "from keras import layers \n",
    "from keras import callbacks\n",
    "from keras.utils import to_categorical\n",
    "from keras import optimizers\n",
    "from keras import regularizers\n",
    "\n",
    "# reuters and fashin mnist data set from keras\n",
    "from keras.datasets import reuters\n",
    "from keras.datasets import fashion_mnist\n",
    "\n",
    "# needed to preprocess text\n",
    "from keras.preprocessing.text import Tokenizer"
   ]
  },
  {
   "cell_type": "markdown",
   "metadata": {},
   "source": [
    "### Classify the Fashion Mnist\n",
    "\n",
    "---"
   ]
  },
  {
   "cell_type": "code",
   "execution_count": 26,
   "metadata": {},
   "outputs": [
    {
     "name": "stdout",
     "output_type": "stream",
     "text": [
      "(60000, 28, 28)\n"
     ]
    },
    {
     "data": {
      "text/plain": [
       "<matplotlib.image.AxesImage at 0x7f1e2994fcc0>"
      ]
     },
     "execution_count": 26,
     "metadata": {},
     "output_type": "execute_result"
    },
    {
     "data": {
      "image/png": "[encoded data removed]",
      "text/plain": [
       "<Figure size 432x288 with 1 Axes>"
      ]
     },
     "metadata": {
      "needs_background": "light"
     },
     "output_type": "display_data"
    }
   ],
   "source": [
    "(fashion_train_data, fashion_train_labels), (fashion_test_data, fashion_test_labels) = fashion_mnist.load_data()\n",
    "\n",
    "print(fashion_train_data.shape)\n",
    "\n",
    "test_index = 10\n",
    "\n",
    "plt.title(\"Label: \" + str(fashion_train_labels[test_index]))\n",
    "plt.imshow(fashion_train_data[test_index], cmap=\"gray\")"
   ]
  },
  {
   "cell_type": "markdown",
   "metadata": {},
   "source": [
    "#### TO DO: Preprocess the data\n",
    "\n",
    "1. Normalize the input data set\n",
    "2. Perform one hot encoding\n",
    "3. Create a train, test, and validation set"
   ]
  },
  {
   "cell_type": "code",
   "execution_count": 27,
   "metadata": {},
   "outputs": [
    {
     "name": "stdout",
     "output_type": "stream",
     "text": [
      "(60000, 784)\n",
      "(60000, 10)\n",
      "(55000, 784)\n"
     ]
    }
   ],
   "source": [
    "\n",
    "# flatten arrays\n",
    "fashion_train_data = fashion_train_data.reshape((60000, 28 * 28))\n",
    "fashion_train_data = fashion_train_data.astype('float32') / 255 \n",
    "\n",
    "print(fashion_train_data.shape)\n",
    "\n",
    "# same starndadization for the test images\n",
    "fashion_test_data = fashion_test_data.reshape((10000, 28 * 28)) \n",
    "fashion_test_data = fashion_test_data.astype('float32') / 255\n",
    "\n",
    "# one hot encoding\n",
    "fashion_train_labels = to_categorical(fashion_train_labels) \n",
    "fashion_test_labels = to_categorical(fashion_test_labels)\n",
    "\n",
    "print(fashion_train_labels.shape)\n",
    "\n",
    "#validation set\n",
    "validation_data = fashion_train_data[:5000] #toma los primeros 5000 para validation\n",
    "validation_labels = fashion_train_labels[:5000]\n",
    "\n",
    "#toma a partir del 5000 para los training\n",
    "x_data = fashion_train_data[5000:]\n",
    "y_data = fashion_train_labels[5000:]\n",
    "\n",
    "print(x_data.shape)"
   ]
  },
  {
   "cell_type": "markdown",
   "metadata": {},
   "source": [
    "#### TO DO: Define and train a network, then plot the accuracy of the training, validation, and testing\n",
    "\n",
    "1. Use a validation set\n",
    "2. Propose and train a network\n",
    "3. Print the history of the training\n",
    "4. Evaluate with a test set"
   ]
  },
  {
   "cell_type": "code",
   "execution_count": 31,
   "metadata": {},
   "outputs": [
    {
     "name": "stdout",
     "output_type": "stream",
     "text": [
      "_________________________________________________________________\n",
      "Layer (type)                 Output Shape              Param #   \n",
      "=================================================================\n",
      "dense_19 (Dense)             (None, 256)               200960    \n",
      "_________________________________________________________________\n",
      "dense_20 (Dense)             (None, 64)                16448     \n",
      "_________________________________________________________________\n",
      "dropout_7 (Dropout)          (None, 64)                0         \n",
      "_________________________________________________________________\n",
      "dense_21 (Dense)             (None, 10)                650       \n",
      "=================================================================\n",
      "Total params: 218,058\n",
      "Trainable params: 218,058\n",
      "Non-trainable params: 0\n",
      "_________________________________________________________________\n"
     ]
    }
   ],
   "source": [
    "network = models.Sequential()\n",
    "\n",
    "network.add(layers.Dense(256, activation='relu', input_shape=(28 * 28,))) #se puede cambiar la función de activación\n",
    "#network.add(layers.Dropout(0.1))\n",
    "network.add(layers.Dense(64, activation='relu'))\n",
    "network.add(layers.Dropout(0.2))\n",
    "network.add(layers.Dense(10, activation='softmax'))\n",
    "\n",
    "network.summary()\n",
    "\n",
    "early_stop = callbacks.EarlyStopping(monitor=\"val_loss\", patience = 5)\n",
    "network.compile(optimizer='adam', loss='categorical_crossentropy', metrics=['accuracy'])\n",
    "\n"
   ]
  },
  {
   "cell_type": "code",
   "execution_count": 32,
   "metadata": {},
   "outputs": [
    {
     "name": "stdout",
     "output_type": "stream",
     "text": [
      "Train on 55000 samples, validate on 5000 samples\n",
      "Epoch 1/50\n",
      " - 2s - loss: 0.6566 - acc: 0.7714 - val_loss: 0.4024 - val_acc: 0.8584\n",
      "Epoch 2/50\n",
      " - 2s - loss: 0.4280 - acc: 0.8476 - val_loss: 0.3550 - val_acc: 0.8762\n",
      "Epoch 3/50\n",
      " - 2s - loss: 0.3796 - acc: 0.8630 - val_loss: 0.3366 - val_acc: 0.8832\n",
      "Epoch 4/50\n",
      " - 2s - loss: 0.3504 - acc: 0.8723 - val_loss: 0.3329 - val_acc: 0.8830\n",
      "Epoch 5/50\n",
      " - 2s - loss: 0.3326 - acc: 0.8795 - val_loss: 0.3311 - val_acc: 0.8790\n",
      "Epoch 6/50\n",
      " - 2s - loss: 0.3131 - acc: 0.8860 - val_loss: 0.3296 - val_acc: 0.8790\n",
      "Epoch 7/50\n",
      " - 2s - loss: 0.3002 - acc: 0.8891 - val_loss: 0.3234 - val_acc: 0.8832\n",
      "Epoch 8/50\n",
      " - 2s - loss: 0.2905 - acc: 0.8923 - val_loss: 0.3090 - val_acc: 0.8896\n",
      "Epoch 9/50\n",
      " - 2s - loss: 0.2780 - acc: 0.8972 - val_loss: 0.3180 - val_acc: 0.8850\n",
      "Epoch 10/50\n",
      " - 2s - loss: 0.2712 - acc: 0.8992 - val_loss: 0.3009 - val_acc: 0.8950\n",
      "Epoch 11/50\n",
      " - 2s - loss: 0.2604 - acc: 0.9021 - val_loss: 0.2963 - val_acc: 0.8970\n",
      "Epoch 12/50\n",
      " - 2s - loss: 0.2542 - acc: 0.9049 - val_loss: 0.2902 - val_acc: 0.8980\n",
      "Epoch 13/50\n",
      " - 2s - loss: 0.2446 - acc: 0.9077 - val_loss: 0.2904 - val_acc: 0.8986\n",
      "Epoch 14/50\n",
      " - 2s - loss: 0.2372 - acc: 0.9107 - val_loss: 0.2909 - val_acc: 0.8978\n",
      "Epoch 15/50\n",
      " - 2s - loss: 0.2332 - acc: 0.9135 - val_loss: 0.2970 - val_acc: 0.8962\n",
      "Epoch 16/50\n",
      " - 2s - loss: 0.2258 - acc: 0.9159 - val_loss: 0.2940 - val_acc: 0.8944\n",
      "Epoch 17/50\n",
      " - 2s - loss: 0.2198 - acc: 0.9172 - val_loss: 0.2979 - val_acc: 0.8938\n",
      "10000/10000 [==============================] - 0s 42us/step\n",
      "[0.32970770778656006, 0.8857]\n"
     ]
    }
   ],
   "source": [
    "history = network.fit(x_data, y_data, batch_size =256, epochs = 50,validation_data = (validation_data, validation_labels),callbacks=[early_stop], verbose=2,shuffle=True)\n",
    "\n",
    "results = network.evaluate(fashion_test_data, fashion_test_labels)\n",
    "print(results)"
   ]
  },
  {
   "cell_type": "markdown",
   "metadata": {},
   "source": [
    "## Classifying newswires\n",
    "\n",
    "---\n",
    "\n",
    "Build a network to classify Reuters newswires into 46 different mutually-exclusive topics."
   ]
  },
  {
   "cell_type": "markdown",
   "metadata": {},
   "source": [
    "### Load and review the data"
   ]
  },
  {
   "cell_type": "code",
   "execution_count": 2,
   "metadata": {},
   "outputs": [
    {
     "name": "stdout",
     "output_type": "stream",
     "text": [
      "Downloading data from https://s3.amazonaws.com/text-datasets/reuters.npz\n",
      "2113536/2110848 [==============================] - 1s 0us/step\n",
      "(8982,)\n",
      "(8982,)\n",
      "[1, 27595, 28842, 8, 43, 10, 447, 5, 25, 207, 270, 5, 3095, 111, 16, 369, 186, 90, 67, 7, 89, 5, 19, 102, 6, 19, 124, 15, 90, 67, 84, 22, 482, 26, 7, 48, 4, 49, 8, 864, 39, 209, 154, 6, 151, 6, 83, 11, 15, 22, 155, 11, 15, 7, 48, 9, 4579, 1005, 504, 6, 258, 6, 272, 11, 15, 22, 134, 44, 11, 15, 16, 8, 197, 1245, 90, 67, 52, 29, 209, 30, 32, 132, 6, 109, 15, 17, 12]\n",
      "3\n",
      "{0, 1, 2, 3, 4, 5, 6, 7, 8, 9, 10, 11, 12, 13, 14, 15, 16, 17, 18, 19, 20, 21, 22, 23, 24, 25, 26, 27, 28, 29, 30, 31, 32, 33, 34, 35, 36, 37, 38, 39, 40, 41, 42, 43, 44, 45}\n"
     ]
    }
   ],
   "source": [
    "(reuters_train_data, reuters_train_labels),(reuters_test_data, reuters_test_labels) = reuters.load_data()\n",
    "\n",
    "print(reuters_train_data.shape)\n",
    "print(reuters_train_labels.shape)\n",
    "print(reuters_train_data[0])\n",
    "print(reuters_train_labels[0])\n",
    "\n",
    "print(set(reuters_train_labels))"
   ]
  },
  {
   "cell_type": "markdown",
   "metadata": {},
   "source": [
    "Load the word index to decode the train data."
   ]
  },
  {
   "cell_type": "code",
   "execution_count": 3,
   "metadata": {},
   "outputs": [
    {
     "name": "stdout",
     "output_type": "stream",
     "text": [
      "Downloading data from https://s3.amazonaws.com/text-datasets/reuters_word_index.json\n",
      "557056/550378 [==============================] - 0s 1us/step\n",
      "<START> mcgrath rentcorp said as a result of its december acquisition of space co it expects earnings per share in 1987 of 1 15 to 1 30 dlrs per share up from 70 cts in 1986 the company said pretax net should rise to nine to 10 mln dlrs from six mln dlrs in 1986 and rental operation revenues to 19 to 22 mln dlrs from 12 5 mln dlrs it said cash flow per share this year should be 2 50 to three dlrs reuter 3\n"
     ]
    }
   ],
   "source": [
    "word_index = reuters.get_word_index()\n",
    "\n",
    "reverse_index = dict([(value+3, key) for (key, value) in word_index.items()])\n",
    "\n",
    "reverse_index[0] = \"<PAD>\"\n",
    "reverse_index[1] = \"<START>\"\n",
    "reverse_index[2] = \"<UNKNOWN>\"  # unknown\n",
    "reverse_index[3] = \"<UNUSED>\"\n",
    "\n",
    "decoded_review = ' '.join([reverse_index.get(i,'?') for i in reuters_train_data[0]])\n",
    "\n",
    "print(decoded_review)"
   ]
  },
  {
   "cell_type": "markdown",
   "metadata": {},
   "source": [
    "#### TO DO: Preprocess the data\n",
    "\n",
    "1. Normalize the input data set\n",
    "2. Perform one hot encoding\n",
    "3. Create a train, test, and validation set"
   ]
  },
  {
   "cell_type": "code",
   "execution_count": 4,
   "metadata": {},
   "outputs": [
    {
     "name": "stdout",
     "output_type": "stream",
     "text": [
      "(8982, 8982)\n",
      "(8982, 46)\n",
      "(7192, 8982)\n"
     ]
    }
   ],
   "source": [
    "tokenizer = Tokenizer(8982)\n",
    "reuters_train_data_token = tokenizer.sequences_to_matrix(reuters_train_data, mode = \"binary\")\n",
    "reuters_test_data_token = tokenizer.sequences_to_matrix(reuters_test_data, mode = \"binary\")\n",
    "\n",
    "print(reuters_train_data_token.shape)\n",
    "\n",
    "#one hot encoding\n",
    "one_hot_train_labels = to_categorical(reuters_train_labels)\n",
    "one_hot_test_labels = to_categorical(reuters_test_labels)\n",
    "\n",
    "print(one_hot_train_labels.shape)\n",
    "\n",
    "#validation set\n",
    "validation_data = reuters_train_data_token[:1790] #toma los primeros 5000 para validation\n",
    "validation_labels = one_hot_train_labels[:1790]\n",
    "\n",
    "#toma a partir del 5000 para los training\n",
    "x_data = reuters_train_data_token[1790:]\n",
    "y_data = one_hot_train_labels[1790:]\n",
    "\n",
    "print(x_data.shape)"
   ]
  },
  {
   "cell_type": "markdown",
   "metadata": {},
   "source": [
    "#### TO DO: Define and train a network, then plot the accuracy of the training, validation, and testing\n",
    "\n",
    "1. Use a validation set\n",
    "2. Propose and train a network\n",
    "3. Print the history of the training\n",
    "4. Evaluate with a test set"
   ]
  },
  {
   "cell_type": "code",
   "execution_count": 115,
   "metadata": {},
   "outputs": [
    {
     "name": "stdout",
     "output_type": "stream",
     "text": [
      "_________________________________________________________________\n",
      "Layer (type)                 Output Shape              Param #   \n",
      "=================================================================\n",
      "dense_192 (Dense)            (None, 64)                574912    \n",
      "_________________________________________________________________\n",
      "dropout_65 (Dropout)         (None, 64)                0         \n",
      "_________________________________________________________________\n",
      "dense_193 (Dense)            (None, 256)               16640     \n",
      "_________________________________________________________________\n",
      "dropout_66 (Dropout)         (None, 256)               0         \n",
      "_________________________________________________________________\n",
      "dense_194 (Dense)            (None, 512)               131584    \n",
      "_________________________________________________________________\n",
      "dropout_67 (Dropout)         (None, 512)               0         \n",
      "_________________________________________________________________\n",
      "dense_195 (Dense)            (None, 46)                23598     \n",
      "=================================================================\n",
      "Total params: 746,734\n",
      "Trainable params: 746,734\n",
      "Non-trainable params: 0\n",
      "_________________________________________________________________\n"
     ]
    }
   ],
   "source": [
    "network = models.Sequential()\n",
    "\n",
    "network.add(layers.Dense(64, activation='relu', input_dim = 8982)) #se puede cambiar la función de activación\n",
    "network.add(layers.Dropout(0.2))\n",
    "network.add(layers.Dense(256, activation='relu'))\n",
    "network.add(layers.Dropout(0.5))\n",
    "network.add(layers.Dense(512, activation='relu'))\n",
    "network.add(layers.Dropout(0.7))\n",
    "#,kernel_regularizer=regularizers.l2(0.03)\n",
    "network.add(layers.Dense(46, activation=\"softmax\"))\n",
    "\n",
    "\n",
    "network.summary()\n",
    "adam = optimizers.Adam(lr=0.001, beta_1=0.9, beta_2=0.999, epsilon=None, decay=0.0, amsgrad=False)\n",
    "\n",
    "early_stop = callbacks.EarlyStopping(monitor=\"val_loss\", patience = 15)\n",
    "network.compile(optimizer='adam', loss='categorical_crossentropy', metrics=['accuracy'])\n"
   ]
  },
  {
   "cell_type": "code",
   "execution_count": 116,
   "metadata": {
    "scrolled": true
   },
   "outputs": [
    {
     "name": "stdout",
     "output_type": "stream",
     "text": [
      "Train on 5753 samples, validate on 1439 samples\n",
      "Epoch 1/200\n",
      " - 4s - loss: 1.9022 - acc: 0.5371 - val_loss: 1.3938 - val_acc: 0.6887\n",
      "Epoch 2/200\n",
      " - 2s - loss: 1.2401 - acc: 0.7035 - val_loss: 1.2806 - val_acc: 0.6956\n",
      "Epoch 3/200\n",
      " - 2s - loss: 0.9621 - acc: 0.7572 - val_loss: 1.2006 - val_acc: 0.7443\n",
      "Epoch 4/200\n",
      " - 2s - loss: 0.7707 - acc: 0.8046 - val_loss: 1.2527 - val_acc: 0.7491\n",
      "Epoch 5/200\n",
      " - 2s - loss: 0.6795 - acc: 0.8253 - val_loss: 1.2237 - val_acc: 0.7589\n",
      "Epoch 6/200\n",
      " - 2s - loss: 0.5944 - acc: 0.8422 - val_loss: 1.2764 - val_acc: 0.7623\n",
      "Epoch 7/200\n",
      " - 2s - loss: 0.5532 - acc: 0.8562 - val_loss: 1.2855 - val_acc: 0.7609\n",
      "Epoch 8/200\n",
      " - 2s - loss: 0.5075 - acc: 0.8623 - val_loss: 1.2440 - val_acc: 0.7665\n",
      "Epoch 9/200\n",
      " - 2s - loss: 0.4572 - acc: 0.8748 - val_loss: 1.2847 - val_acc: 0.7714\n",
      "Epoch 10/200\n",
      " - 2s - loss: 0.4404 - acc: 0.8787 - val_loss: 1.2889 - val_acc: 0.7700\n",
      "Epoch 11/200\n",
      " - 2s - loss: 0.4106 - acc: 0.8853 - val_loss: 1.3254 - val_acc: 0.7776\n",
      "Epoch 12/200\n",
      " - 2s - loss: 0.3834 - acc: 0.8912 - val_loss: 1.3624 - val_acc: 0.7707\n",
      "Epoch 13/200\n",
      " - 2s - loss: 0.3737 - acc: 0.8938 - val_loss: 1.3307 - val_acc: 0.7783\n",
      "Epoch 14/200\n",
      " - 2s - loss: 0.3590 - acc: 0.9011 - val_loss: 1.3727 - val_acc: 0.7818\n",
      "Epoch 15/200\n",
      " - 2s - loss: 0.3435 - acc: 0.9054 - val_loss: 1.3478 - val_acc: 0.7769\n",
      "Epoch 16/200\n",
      " - 2s - loss: 0.3377 - acc: 0.9023 - val_loss: 1.3790 - val_acc: 0.7839\n",
      "Epoch 17/200\n",
      " - 2s - loss: 0.2982 - acc: 0.9138 - val_loss: 1.4502 - val_acc: 0.7714\n",
      "Epoch 18/200\n",
      " - 2s - loss: 0.3006 - acc: 0.9117 - val_loss: 1.4526 - val_acc: 0.7797\n",
      "2246/2246 [==============================] - 0s 156us/step\n",
      "[1.4696377799220097, 0.7747105966692829]\n"
     ]
    }
   ],
   "source": [
    "history = network.fit(x_data, y_data, batch_size =32, epochs = 200,validation_split=0.2,callbacks=[early_stop], verbose=2,shuffle=True)\n",
    "\n",
    "results = network.evaluate(reuters_test_data_token, one_hot_test_labels)\n",
    "print(results)"
   ]
  },
  {
   "cell_type": "markdown",
   "metadata": {},
   "source": [
    "## Predicting Student Admissions\n",
    "\n",
    "---\n",
    "\n",
    "Predict student admissions based on three pieces of data:\n",
    "\n",
    "- GRE Scores\n",
    "- GPA Scores\n",
    "- Class rank"
   ]
  },
  {
   "cell_type": "markdown",
   "metadata": {},
   "source": [
    "### Load and visualize the data"
   ]
  },
  {
   "cell_type": "code",
   "execution_count": 117,
   "metadata": {},
   "outputs": [
    {
     "name": "stdout",
     "output_type": "stream",
     "text": [
      "     admit  gre   gpa  rank\n",
      "0        0  380  3.61     3\n",
      "1        1  660  3.67     3\n",
      "2        1  800  4.00     1\n",
      "3        1  640  3.19     4\n",
      "4        0  520  2.93     4\n",
      "5        1  760  3.00     2\n",
      "6        1  560  2.98     1\n",
      "7        0  400  3.08     2\n",
      "8        1  540  3.39     3\n",
      "9        0  700  3.92     2\n",
      "10       0  800  4.00     4\n",
      "11       0  440  3.22     1\n",
      "12       1  760  4.00     1\n",
      "13       0  700  3.08     2\n",
      "14       1  700  4.00     1\n",
      "15       0  480  3.44     3\n",
      "16       0  780  3.87     4\n",
      "17       0  360  2.56     3\n",
      "18       0  800  3.75     2\n",
      "19       1  540  3.81     1\n",
      "20       0  500  3.17     3\n",
      "21       1  660  3.63     2\n",
      "22       0  600  2.82     4\n",
      "23       0  680  3.19     4\n",
      "24       1  760  3.35     2\n",
      "25       1  800  3.66     1\n",
      "26       1  620  3.61     1\n",
      "27       1  520  3.74     4\n",
      "28       1  780  3.22     2\n",
      "29       0  520  3.29     1\n",
      "..     ...  ...   ...   ...\n",
      "367      1  540  3.77     2\n",
      "368      1  680  3.76     3\n",
      "369      1  680  2.42     1\n",
      "370      1  620  3.37     1\n",
      "371      0  560  3.78     2\n",
      "372      0  560  3.49     4\n",
      "373      0  620  3.63     2\n",
      "374      1  800  4.00     2\n",
      "375      0  640  3.12     3\n",
      "376      0  540  2.70     2\n",
      "377      0  700  3.65     2\n",
      "378      1  540  3.49     2\n",
      "379      0  540  3.51     2\n",
      "380      0  660  4.00     1\n",
      "381      1  480  2.62     2\n",
      "382      0  420  3.02     1\n",
      "383      1  740  3.86     2\n",
      "384      0  580  3.36     2\n",
      "385      0  640  3.17     2\n",
      "386      0  640  3.51     2\n",
      "387      1  800  3.05     2\n",
      "388      1  660  3.88     2\n",
      "389      1  600  3.38     3\n",
      "390      1  620  3.75     2\n",
      "391      1  460  3.99     3\n",
      "392      0  620  4.00     2\n",
      "393      0  560  3.04     3\n",
      "394      0  460  2.63     2\n",
      "395      0  700  3.65     2\n",
      "396      0  600  3.89     3\n",
      "\n",
      "[397 rows x 4 columns]\n"
     ]
    }
   ],
   "source": [
    "student_data = pd.read_csv(\"student_data.csv\")\n",
    "print(student_data)"
   ]
  },
  {
   "cell_type": "markdown",
   "metadata": {},
   "source": [
    "Plot of the GRE and the GPA from the data."
   ]
  },
  {
   "cell_type": "code",
   "execution_count": 118,
   "metadata": {},
   "outputs": [
    {
     "data": {
      "image/png": "[encoded data removed]",
      "text/plain": [
       "<Figure size 432x288 with 1 Axes>"
      ]
     },
     "metadata": {
      "needs_background": "light"
     },
     "output_type": "display_data"
    }
   ],
   "source": [
    "X = np.array(student_data[[\"gre\",\"gpa\"]])\n",
    "y = np.array(student_data[\"admit\"])\n",
    "admitted = X[np.argwhere(y==1)]\n",
    "rejected = X[np.argwhere(y==0)]\n",
    "plt.scatter([s[0][0] for s in rejected], [s[0][1] for s in rejected], s = 25, color = 'red', edgecolor = 'k')\n",
    "plt.scatter([s[0][0] for s in admitted], [s[0][1] for s in admitted], s = 25, color = 'cyan', edgecolor = 'k')\n",
    "plt.xlabel('Test (GRE)')\n",
    "plt.ylabel('Grades (GPA)')\n",
    "\n",
    "plt.show()"
   ]
  },
  {
   "cell_type": "markdown",
   "metadata": {},
   "source": [
    "Plot of the data by class rank."
   ]
  },
  {
   "cell_type": "code",
   "execution_count": 119,
   "metadata": {},
   "outputs": [
    {
     "data": {
      "image/png": "[encoded data removed]",
      "text/plain": [
       "<Figure size 1440x720 with 4 Axes>"
      ]
     },
     "metadata": {
      "needs_background": "light"
     },
     "output_type": "display_data"
    }
   ],
   "source": [
    "f, plots = plt.subplots(2, 2, figsize=(20,10))\n",
    "plots = [plot for sublist in plots for plot in sublist]\n",
    "\n",
    "for idx, plot in enumerate(plots):\n",
    "    data_rank = student_data[student_data[\"rank\"]==idx+1]\n",
    "    plot.set_title(\"Rank \" + str(idx+1))\n",
    "    X = np.array(data_rank[[\"gre\",\"gpa\"]])\n",
    "    y = np.array(data_rank[\"admit\"])\n",
    "    admitted = X[np.argwhere(y==1)]\n",
    "    rejected = X[np.argwhere(y==0)]\n",
    "    plot.scatter([s[0][0] for s in rejected], [s[0][1] for s in rejected], s = 25, color = 'red', edgecolor = 'k')\n",
    "    plot.scatter([s[0][0] for s in admitted], [s[0][1] for s in admitted], s = 25, color = 'cyan', edgecolor = 'k')\n",
    "    plot.set_xlabel('Test (GRE)')\n",
    "    plot.set_ylabel('Grades (GPA)')\n",
    "    "
   ]
  },
  {
   "cell_type": "markdown",
   "metadata": {},
   "source": [
    "#### TO DO: Preprocess the data\n",
    "\n",
    "1. Normalize the input data set\n",
    "2. Perform one hot encoding\n",
    "3. Create a train, test, and validation set"
   ]
  },
  {
   "cell_type": "code",
   "execution_count": 141,
   "metadata": {},
   "outputs": [
    {
     "name": "stdout",
     "output_type": "stream",
     "text": [
      "[[ 0.10505189  0.44178393  0.          1.          0.          0.        ]\n",
      " [-0.24105284  0.25744218  0.          0.          0.          1.        ]\n",
      " [-1.62547183 -0.08490742  0.          1.          0.          0.        ]\n",
      " ...\n",
      " [-0.06800047  0.17843857  0.          0.          0.          1.        ]\n",
      " [-0.41410521 -0.03223772  0.          0.          0.          1.        ]\n",
      " [ 1.66252315  0.62612635  0.          0.          0.          1.        ]]\n"
     ]
    }
   ],
   "source": [
    "#problema con alumnos que no tienen gre o gpa \n",
    "#Normalizando la información\n",
    "#Información continua\n",
    "#-media/devstand\n",
    "#datos continuos\n",
    "#para predecir debo restarle 1\n",
    "\n",
    "data = np.array(student_data, dtype = np.float32)\n",
    "np.random.shuffle(data)\n",
    "\n",
    "media_gre = np.average(data[:,1])\n",
    "std_gre = np.std(data[:,1])\n",
    "\n",
    "media_gpa = np.average(data[:,2])\n",
    "std_gpa = np.std(data[:,2])\n",
    "\n",
    "norm_gre = (data[:,1]-media_gre)/std_gre\n",
    "norm_gpa = (data[:,2]-media_gpa)/std_gpa\n",
    "dat = to_categorical(data[:,3]-1) \n",
    "\n",
    "\n",
    "\n",
    "inputs = np.zeros((len(data),6))\n",
    "inputs[:,0] = norm_gre\n",
    "inputs[:,1] = norm_gpa\n",
    "inputs[:,2:6] = dat\n",
    "print(inputs)\n",
    "\n",
    "train_data = inputs[130:]\n",
    "train_labels = to_categorical(data[130:,0])\n",
    "\n",
    "test_data = inputs[80:130]\n",
    "test_labels = to_categorical(data[80:130,0])\n",
    "\n",
    "validation_data = inputs[:80]\n",
    "validation_labels = to_categorical(data[:80,0])"
   ]
  },
  {
   "cell_type": "markdown",
   "metadata": {},
   "source": [
    "#### TO DO: Define and train a network, then plot the accuracy of the training, validation, and testing\n",
    "\n",
    "1. Use a validation set\n",
    "2. Propose and train a network\n",
    "3. Print the history of the training\n",
    "4. Evaluate with a test set"
   ]
  },
  {
   "cell_type": "code",
   "execution_count": 160,
   "metadata": {},
   "outputs": [
    {
     "name": "stdout",
     "output_type": "stream",
     "text": [
      "_________________________________________________________________\n",
      "Layer (type)                 Output Shape              Param #   \n",
      "=================================================================\n",
      "dense_266 (Dense)            (None, 128)               896       \n",
      "_________________________________________________________________\n",
      "dropout_90 (Dropout)         (None, 128)               0         \n",
      "_________________________________________________________________\n",
      "dense_267 (Dense)            (None, 16)                2064      \n",
      "_________________________________________________________________\n",
      "dropout_91 (Dropout)         (None, 16)                0         \n",
      "_________________________________________________________________\n",
      "dense_268 (Dense)            (None, 2)                 34        \n",
      "=================================================================\n",
      "Total params: 2,994\n",
      "Trainable params: 2,994\n",
      "Non-trainable params: 0\n",
      "_________________________________________________________________\n"
     ]
    }
   ],
   "source": [
    "import random\n",
    "network = models.Sequential()\n",
    "\n",
    "network.add(layers.Dense(128, activation='relu', input_dim = 6))\n",
    "network.add(layers.Dropout(0.2))\n",
    "network.add(layers.Dense(16, activation='relu'))\n",
    "network.add(layers.Dropout(0.1))\n",
    "network.add(layers.Dense(2, activation=\"softmax\"))\n",
    "\n",
    "#,kernel_regularizer=regularizers.l2(0.01)\n",
    "network.summary()\n",
    "\n",
    "#adam = optimizers.Adam(lr=0.0001, beta_1=0.9, beta_2=0.999, epsilon=None, decay=0.0, amsgrad=False)\n",
    "early_stop = callbacks.EarlyStopping(monitor=\"val_loss\", patience = 20)\n",
    "network.compile(optimizer='adam', loss='binary_crossentropy', metrics=['accuracy'])"
   ]
  },
  {
   "cell_type": "code",
   "execution_count": 161,
   "metadata": {},
   "outputs": [
    {
     "name": "stdout",
     "output_type": "stream",
     "text": [
      "Train on 267 samples, validate on 80 samples\n",
      "Epoch 1/1000\n",
      " - 3s - loss: 0.7245 - acc: 0.3708 - val_loss: 0.6822 - val_acc: 0.5875\n",
      "Epoch 2/1000\n",
      " - 0s - loss: 0.6828 - acc: 0.5805 - val_loss: 0.6605 - val_acc: 0.7000\n",
      "Epoch 3/1000\n",
      " - 0s - loss: 0.6692 - acc: 0.6442 - val_loss: 0.6432 - val_acc: 0.6750\n",
      "Epoch 4/1000\n",
      " - 0s - loss: 0.6471 - acc: 0.6816 - val_loss: 0.6296 - val_acc: 0.6750\n",
      "Epoch 5/1000\n",
      " - 0s - loss: 0.6373 - acc: 0.6779 - val_loss: 0.6184 - val_acc: 0.6875\n",
      "Epoch 6/1000\n",
      " - 0s - loss: 0.6266 - acc: 0.7041 - val_loss: 0.6092 - val_acc: 0.6875\n",
      "Epoch 7/1000\n",
      " - 0s - loss: 0.6189 - acc: 0.6891 - val_loss: 0.6024 - val_acc: 0.6875\n",
      "Epoch 8/1000\n",
      " - 0s - loss: 0.6028 - acc: 0.6966 - val_loss: 0.5983 - val_acc: 0.6875\n",
      "Epoch 9/1000\n",
      " - 0s - loss: 0.6014 - acc: 0.6929 - val_loss: 0.5955 - val_acc: 0.6875\n",
      "Epoch 10/1000\n",
      " - 0s - loss: 0.5928 - acc: 0.6966 - val_loss: 0.5928 - val_acc: 0.6875\n",
      "Epoch 11/1000\n",
      " - 0s - loss: 0.5913 - acc: 0.6966 - val_loss: 0.5908 - val_acc: 0.6875\n",
      "Epoch 12/1000\n",
      " - 0s - loss: 0.5975 - acc: 0.7079 - val_loss: 0.5893 - val_acc: 0.6750\n",
      "Epoch 13/1000\n",
      " - 0s - loss: 0.5843 - acc: 0.7041 - val_loss: 0.5891 - val_acc: 0.6875\n",
      "Epoch 14/1000\n",
      " - 0s - loss: 0.5876 - acc: 0.6816 - val_loss: 0.5902 - val_acc: 0.7125\n",
      "Epoch 15/1000\n",
      " - 0s - loss: 0.5757 - acc: 0.7154 - val_loss: 0.5889 - val_acc: 0.7250\n",
      "Epoch 16/1000\n",
      " - 0s - loss: 0.5797 - acc: 0.7191 - val_loss: 0.5857 - val_acc: 0.7125\n",
      "Epoch 17/1000\n",
      " - 0s - loss: 0.5867 - acc: 0.7228 - val_loss: 0.5831 - val_acc: 0.7125\n",
      "Epoch 18/1000\n",
      " - 0s - loss: 0.5753 - acc: 0.7079 - val_loss: 0.5818 - val_acc: 0.7125\n",
      "Epoch 19/1000\n",
      " - 0s - loss: 0.5814 - acc: 0.7341 - val_loss: 0.5827 - val_acc: 0.7250\n",
      "Epoch 20/1000\n",
      " - 0s - loss: 0.5787 - acc: 0.7191 - val_loss: 0.5817 - val_acc: 0.7125\n",
      "Epoch 21/1000\n",
      " - 0s - loss: 0.5714 - acc: 0.7266 - val_loss: 0.5806 - val_acc: 0.7250\n",
      "Epoch 22/1000\n",
      " - 0s - loss: 0.5817 - acc: 0.7116 - val_loss: 0.5804 - val_acc: 0.7250\n",
      "Epoch 23/1000\n",
      " - 0s - loss: 0.5707 - acc: 0.7154 - val_loss: 0.5793 - val_acc: 0.7250\n",
      "Epoch 24/1000\n",
      " - 0s - loss: 0.5865 - acc: 0.7154 - val_loss: 0.5796 - val_acc: 0.7250\n",
      "Epoch 25/1000\n",
      " - 0s - loss: 0.5707 - acc: 0.7191 - val_loss: 0.5798 - val_acc: 0.7250\n",
      "Epoch 26/1000\n",
      " - 0s - loss: 0.5852 - acc: 0.7154 - val_loss: 0.5806 - val_acc: 0.7250\n",
      "Epoch 27/1000\n",
      " - 0s - loss: 0.5662 - acc: 0.7266 - val_loss: 0.5812 - val_acc: 0.7250\n",
      "Epoch 28/1000\n",
      " - 0s - loss: 0.5584 - acc: 0.7341 - val_loss: 0.5813 - val_acc: 0.7250\n",
      "Epoch 29/1000\n",
      " - 0s - loss: 0.5670 - acc: 0.7228 - val_loss: 0.5811 - val_acc: 0.7250\n",
      "Epoch 30/1000\n",
      " - 0s - loss: 0.5762 - acc: 0.7303 - val_loss: 0.5813 - val_acc: 0.7250\n",
      "Epoch 31/1000\n",
      " - 0s - loss: 0.5698 - acc: 0.7378 - val_loss: 0.5805 - val_acc: 0.7250\n",
      "Epoch 32/1000\n",
      " - 0s - loss: 0.5733 - acc: 0.7191 - val_loss: 0.5789 - val_acc: 0.7250\n",
      "Epoch 33/1000\n",
      " - 0s - loss: 0.5705 - acc: 0.7191 - val_loss: 0.5774 - val_acc: 0.7250\n",
      "Epoch 34/1000\n",
      " - 0s - loss: 0.5682 - acc: 0.7266 - val_loss: 0.5758 - val_acc: 0.7250\n",
      "Epoch 35/1000\n",
      " - 0s - loss: 0.5596 - acc: 0.7266 - val_loss: 0.5754 - val_acc: 0.7250\n",
      "Epoch 36/1000\n",
      " - 0s - loss: 0.5583 - acc: 0.7303 - val_loss: 0.5749 - val_acc: 0.7250\n",
      "Epoch 37/1000\n",
      " - 0s - loss: 0.5673 - acc: 0.7154 - val_loss: 0.5743 - val_acc: 0.7250\n",
      "Epoch 38/1000\n",
      " - 0s - loss: 0.5619 - acc: 0.7378 - val_loss: 0.5745 - val_acc: 0.7250\n",
      "Epoch 39/1000\n",
      " - 0s - loss: 0.5634 - acc: 0.7303 - val_loss: 0.5756 - val_acc: 0.7250\n",
      "Epoch 40/1000\n",
      " - 0s - loss: 0.5667 - acc: 0.7228 - val_loss: 0.5759 - val_acc: 0.7250\n",
      "Epoch 41/1000\n",
      " - 0s - loss: 0.5671 - acc: 0.7266 - val_loss: 0.5748 - val_acc: 0.7250\n",
      "Epoch 42/1000\n",
      " - 0s - loss: 0.5605 - acc: 0.7228 - val_loss: 0.5754 - val_acc: 0.7250\n",
      "Epoch 43/1000\n",
      " - 0s - loss: 0.5592 - acc: 0.7378 - val_loss: 0.5769 - val_acc: 0.7250\n",
      "Epoch 44/1000\n",
      " - 0s - loss: 0.5504 - acc: 0.7453 - val_loss: 0.5787 - val_acc: 0.7250\n",
      "Epoch 45/1000\n",
      " - 0s - loss: 0.5577 - acc: 0.7266 - val_loss: 0.5800 - val_acc: 0.7250\n",
      "Epoch 46/1000\n",
      " - 0s - loss: 0.5597 - acc: 0.7228 - val_loss: 0.5794 - val_acc: 0.7250\n",
      "Epoch 47/1000\n",
      " - 0s - loss: 0.5494 - acc: 0.7416 - val_loss: 0.5785 - val_acc: 0.7250\n",
      "Epoch 48/1000\n",
      " - 0s - loss: 0.5470 - acc: 0.7303 - val_loss: 0.5765 - val_acc: 0.7250\n",
      "Epoch 49/1000\n",
      " - 0s - loss: 0.5471 - acc: 0.7266 - val_loss: 0.5760 - val_acc: 0.7250\n",
      "Epoch 50/1000\n",
      " - 0s - loss: 0.5536 - acc: 0.7416 - val_loss: 0.5734 - val_acc: 0.7250\n",
      "Epoch 51/1000\n",
      " - 0s - loss: 0.5632 - acc: 0.7303 - val_loss: 0.5725 - val_acc: 0.7250\n",
      "Epoch 52/1000\n",
      " - 0s - loss: 0.5520 - acc: 0.7416 - val_loss: 0.5747 - val_acc: 0.7250\n",
      "Epoch 53/1000\n",
      " - 0s - loss: 0.5461 - acc: 0.7416 - val_loss: 0.5767 - val_acc: 0.7250\n",
      "Epoch 54/1000\n",
      " - 0s - loss: 0.5691 - acc: 0.7191 - val_loss: 0.5799 - val_acc: 0.7250\n",
      "Epoch 55/1000\n",
      " - 0s - loss: 0.5444 - acc: 0.7378 - val_loss: 0.5801 - val_acc: 0.7250\n",
      "Epoch 56/1000\n",
      " - 0s - loss: 0.5559 - acc: 0.7341 - val_loss: 0.5789 - val_acc: 0.7250\n",
      "Epoch 57/1000\n",
      " - 0s - loss: 0.5375 - acc: 0.7341 - val_loss: 0.5791 - val_acc: 0.7250\n",
      "Epoch 58/1000\n",
      " - 0s - loss: 0.5543 - acc: 0.7341 - val_loss: 0.5801 - val_acc: 0.7250\n",
      "Epoch 59/1000\n",
      " - 0s - loss: 0.5548 - acc: 0.7303 - val_loss: 0.5792 - val_acc: 0.7250\n",
      "Epoch 60/1000\n",
      " - 0s - loss: 0.5381 - acc: 0.7378 - val_loss: 0.5793 - val_acc: 0.7250\n",
      "Epoch 61/1000\n",
      " - 0s - loss: 0.5585 - acc: 0.7416 - val_loss: 0.5792 - val_acc: 0.7250\n",
      "Epoch 62/1000\n",
      " - 0s - loss: 0.5497 - acc: 0.7416 - val_loss: 0.5804 - val_acc: 0.7250\n",
      "Epoch 63/1000\n",
      " - 0s - loss: 0.5478 - acc: 0.7491 - val_loss: 0.5813 - val_acc: 0.7250\n",
      "Epoch 64/1000\n",
      " - 0s - loss: 0.5542 - acc: 0.7378 - val_loss: 0.5818 - val_acc: 0.7250\n",
      "Epoch 65/1000\n",
      " - 0s - loss: 0.5517 - acc: 0.7266 - val_loss: 0.5797 - val_acc: 0.7250\n",
      "Epoch 66/1000\n",
      " - 0s - loss: 0.5434 - acc: 0.7303 - val_loss: 0.5774 - val_acc: 0.7250\n",
      "Epoch 67/1000\n",
      " - 0s - loss: 0.5626 - acc: 0.7228 - val_loss: 0.5771 - val_acc: 0.7250\n",
      "Epoch 68/1000\n",
      " - 0s - loss: 0.5475 - acc: 0.7378 - val_loss: 0.5767 - val_acc: 0.7250\n",
      "Epoch 69/1000\n",
      " - 0s - loss: 0.5521 - acc: 0.7528 - val_loss: 0.5783 - val_acc: 0.7250\n",
      "Epoch 70/1000\n",
      " - 0s - loss: 0.5616 - acc: 0.7341 - val_loss: 0.5793 - val_acc: 0.7250\n",
      "Epoch 71/1000\n",
      " - 0s - loss: 0.5336 - acc: 0.7453 - val_loss: 0.5804 - val_acc: 0.7250\n",
      "50/50 [==============================] - 0s 140us/step\n",
      "[0.6008392858505249, 0.7000000071525574]\n"
     ]
    }
   ],
   "source": [
    "history = network.fit(train_data, train_labels, batch_size =64, epochs = 1000,validation_data = (validation_data, validation_labels),callbacks=[early_stop], verbose=2,shuffle=True)\n",
    "#,callbacks=[early_stop]\n",
    "results = network.evaluate(test_data, test_labels)\n",
    "print(results)"
   ]
  },
  {
   "cell_type": "code",
   "execution_count": null,
   "metadata": {},
   "outputs": [],
   "source": []
  },
  {
   "cell_type": "code",
   "execution_count": null,
   "metadata": {},
   "outputs": [],
   "source": []
  }
 ],
 "metadata": {
  "kernelspec": {
   "display_name": "Python 3",
   "language": "python",
   "name": "python3"
  },
  "language_info": {
   "codemirror_mode": {
    "name": "ipython",
    "version": 3
   },
   "file_extension": ".py",
   "mimetype": "text/x-python",
   "name": "python",
   "nbconvert_exporter": "python",
   "pygments_lexer": "ipython3",
   "version": "3.6.7"
  }
 },
 "nbformat": 4,
 "nbformat_minor": 2
}
